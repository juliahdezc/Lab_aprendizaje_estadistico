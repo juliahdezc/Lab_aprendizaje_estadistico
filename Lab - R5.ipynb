{
 "cells": [
  {
   "cell_type": "markdown",
   "id": "70086771-ad90-497d-9b51-22626c9cce63",
   "metadata": {},
   "source": [
    "# Laboratorio de regresión - 5"
   ]
  },
  {
   "cell_type": "markdown",
   "id": "9f666e0e-9e63-49f4-96e1-053c5b1738c3",
   "metadata": {},
   "source": [
    "|                |   |\n",
    ":----------------|---|\n",
    "| **Nombre**     | Julia Hernández Cárdenas  |\n",
    "| **Fecha**      | 15/09/2025  |\n",
    "| **Expediente** | 739208  |"
   ]
  },
  {
   "cell_type": "markdown",
   "id": "19f352dc-5863-4685-af3c-25f8fcf60841",
   "metadata": {},
   "source": [
    "## Validación"
   ]
  },
  {
   "cell_type": "markdown",
   "id": "b73fccec-9651-4f74-9d56-a3c2b2097e19",
   "metadata": {},
   "source": [
    "Hemos estado usando `train_test_split` en nuestros modelos anteriores.\n",
    "\n",
    "**¿Por qué?**"
   ]
  },
  {
   "cell_type": "markdown",
   "id": "84fe97ab-a033-4d0f-ab73-0cdabe591655",
   "metadata": {},
   "source": [
    "Se utiliza para tratar de evitar que el modelo esté \"overfit\". O sea, tratar de ver si el modelo puede funcionar para cualquier grupo de datos, no únicamente con los que se está entrenando. "
   ]
  },
  {
   "cell_type": "markdown",
   "id": "20b452d0-e0b5-4d92-bd1a-288fa14a2ed9",
   "metadata": {},
   "source": []
  },
  {
   "cell_type": "markdown",
   "id": "0a60a028-ed60-4a5c-9308-dee4862e2bac",
   "metadata": {},
   "source": [
    "**Si la muestra es un subset de la población y queremos generalizar sobre la población, ¿no sería mejor utilizar todos los datos al entrenar un modelo?**"
   ]
  },
  {
   "cell_type": "markdown",
   "id": "50989a32-59e7-4bef-9b60-89f543d8ca81",
   "metadata": {},
   "source": [
    "A pesar de que tendría sentido utilizar todos los datos, el modelo terminaría teniendo un problema de \"overfitting\", haciendo que no sea preciso a la hora de utilizar datos nuevos, que no hayan sido utilizados para entrenar este modelo. \n",
    "\n",
    "La idea de hacer estos modelos es poder utilizarlos para cualquier conjunto de datos, y si éste está sobreajustado, no sería útil tenerlo, ya que los resultados no serían correctos."
   ]
  },
  {
   "cell_type": "markdown",
   "id": "ed8b1ad0-3c68-4f6a-b16b-c0b1353d7dd2",
   "metadata": {},
   "source": []
  },
  {
   "cell_type": "markdown",
   "id": "b98d96f3-7370-4161-aa67-75f10e5817cd",
   "metadata": {},
   "source": [
    "El propósito de volver a muestrear dentro de nuestro dataset es tener una idea de qué tan buena podría ser la generalización de nuestro modelo. Imagina un dataset ya separado en dos mitades. Utilizas la primera mitad para entrenar el modelo y pruebas en la segunda mitad; la segunda mitad eran datos invisibles para el modelo al momento de entrenar. Esto nos lleva a tres escenario típicos:\n",
    "\n",
    "1. Si el modelo hace buenas predicciones en la segunda mitad, significa que la primera mitad era \"suficiente\" para generalizar.\n",
    "2. Si el modelo no hace buenas predicciones en la segunda mitad, pero sí en la primera mitad, podría ser que había información importante en la segunda mitad que debió haber sido tomada en cuenta al entrenar, o un problema de overfitting.\n",
    "3. Si el modelo no hace buenas predicciones en la segunda mitad, y tampoco en la primera mitad, se tendrían que revisar los factores y/o el modelo seleccionado.\n",
    "\n",
    "El caso ideal sería el 1, pero por estadística los errores y varianzas tienen como entrada el número de muestas, por lo que tenemos menos seguridad de nuestros resutados al usar menos muestras. Si vemos que el modelo generaliza bien podemos unir de nuevo el dataset y entrenar sobre el dataset completo.\n",
    "\n",
    "En el caso 2 está el problema de que no podemos saber qué información es necesaria para el entrenamiento apropiado del modelo; esto nos lleva a pensar que debemos usar el dataset completo para entrenar, pero esto nos lleva al mismo problema de no saber si el modelo puede generalizar.\n",
    "\n",
    "El problema sólo incrementa si se tienen hiperparámetros en el modelo (e.g. $\\lambda$ en regularización)."
   ]
  },
  {
   "cell_type": "markdown",
   "id": "a16176ad-41fc-4f3c-b865-2eb4219152e2",
   "metadata": {},
   "source": [
    "## Leave-One-Out Cross Validation"
   ]
  },
  {
   "cell_type": "markdown",
   "id": "e1f7165d-5b5d-4e92-ae7f-7edb12eea745",
   "metadata": {},
   "source": [
    "Este método de validación es una colección de $n$ `train-test-split`. Teniendo un dataset de $n$ muestras, la lógica es:\n",
    "1. Saca una muestra del dataset.\n",
    "2. Entrena tu modelo con las $n-1$ muestras.\n",
    "3. Evalúa tu modelo en la muestra que quedó fuera con el métrico que más se ajuste a la aplicación.\n",
    "4. Regresa la muestra al dataset.\n",
    "5. Repite 1-4 con muestras diferentes hasta haber hecho el procedimiento $n$ veces para $n$ muestras.\n",
    "6. Calcula la media y desviación estándar de los métricos guardados."
   ]
  },
  {
   "cell_type": "markdown",
   "id": "21340b80-8fa4-4cdf-8fe4-85e4a35febcd",
   "metadata": {},
   "source": [
    "Con los resultados del proceso de validación podemos saber qué tan bueno podría ser el modelo seleccionado con los datos (con/sin transformaciones)."
   ]
  },
  {
   "cell_type": "markdown",
   "id": "0983bf1c-a6a2-42e4-a522-92bba6b450ab",
   "metadata": {},
   "source": [
    "### Ejercicio 1"
   ]
  },
  {
   "cell_type": "markdown",
   "id": "21e5f076-bc52-482c-9560-ecd0c125efa7",
   "metadata": {},
   "source": [
    "Utiliza el dataset `Motor Trend Car Road Tests`. Elimina la columna `model` y entrena 32 modelos diferentes utilizando Leave-One-Out Cross Validation con target `mpg`. Utiliza MSE como métrico."
   ]
  },
  {
   "cell_type": "code",
   "execution_count": 1,
   "id": "89510da9-15a9-41e5-bd0e-855291acec2a",
   "metadata": {},
   "outputs": [],
   "source": [
    "import pandas as pd\n",
    "import numpy as np\n",
    "from sklearn.linear_model import LinearRegression\n",
    "import matplotlib.pyplot as plt\n",
    "from sklearn.metrics import r2_score\n",
    "import statsmodels.api as sm\n",
    "from sklearn.linear_model import Ridge\n",
    "from sklearn.linear_model import Lasso\n",
    "from sklearn.preprocessing import StandardScaler\n",
    "from sklearn.model_selection import train_test_split\n",
    "from sklearn.metrics import mean_squared_error"
   ]
  },
  {
   "cell_type": "code",
   "execution_count": 2,
   "id": "b7199ca1-32f0-463b-925f-76613d608a72",
   "metadata": {},
   "outputs": [],
   "source": [
    "motor = pd.read_excel(\"Motor Trend Car Road Tests.xlsx\")\n",
    "motor.dropna()\n",
    "motor.drop_duplicates()\n",
    "motor = motor.drop(columns = [\"model\"])"
   ]
  },
  {
   "cell_type": "code",
   "execution_count": 3,
   "id": "40ad85dc-3106-4430-9ed2-b6354e00d87f",
   "metadata": {},
   "outputs": [],
   "source": [
    "x = motor.drop(columns=[\"mpg\"])\n",
    "y = motor[\"mpg\"]"
   ]
  },
  {
   "cell_type": "code",
   "execution_count": 4,
   "id": "4d045638",
   "metadata": {},
   "outputs": [
    {
     "name": "stdout",
     "output_type": "stream",
     "text": [
      "MSE promedio: 12.181558006901964\n",
      "Desviación estándar: 17.06739987188858\n"
     ]
    }
   ],
   "source": [
    "n = len(motor)\n",
    "valores_mse = []\n",
    "for i in range(n):\n",
    "    x_train = x.drop(i).to_numpy()\n",
    "    y_train = y.drop(i).to_numpy()\n",
    "    x_test = x.iloc[i].to_numpy().reshape(1, -1)\n",
    "    y_test = y.iloc[i]\n",
    "    \n",
    "    model = LinearRegression()\n",
    "    model.fit(x_train, y_train)\n",
    "    \n",
    "    y_pred = model.predict(x_test)\n",
    "    \n",
    "    mse = mean_squared_error([y_test], y_pred)\n",
    "    valores_mse.append(mse)\n",
    "\n",
    "print(\"MSE promedio:\", np.mean(valores_mse))\n",
    "print(\"Desviación estándar:\", np.std(valores_mse))"
   ]
  },
  {
   "cell_type": "code",
   "execution_count": 5,
   "id": "eec1225a",
   "metadata": {
    "scrolled": true
   },
   "outputs": [
    {
     "data": {
      "text/plain": [
       "[5.258855796629032,\n",
       " 2.453996713086818,\n",
       " 20.550493416882755,\n",
       " 0.04432910713964311,\n",
       " 1.5811555159760176,\n",
       " 10.11862548887538,\n",
       " 0.01637404154847087,\n",
       " 8.081250710389417,\n",
       " 39.47018347964965,\n",
       " 0.7706327722901085,\n",
       " 4.955694234215864,\n",
       " 10.224730198354456,\n",
       " 4.430129331402683,\n",
       " 0.4878127712478519,\n",
       " 6.823844575809502,\n",
       " 0.6027506975547144,\n",
       " 36.810178609958804,\n",
       " 31.759855581210513,\n",
       " 1.0632275418057964,\n",
       " 32.71328618702714,\n",
       " 14.30717368271277,\n",
       " 3.405354649998888,\n",
       " 9.408007649079883,\n",
       " 0.00010350039803663976,\n",
       " 9.962439534547652,\n",
       " 1.3412208919431396,\n",
       " 0.1648006408222328,\n",
       " 23.600206502249318,\n",
       " 83.11457643385218,\n",
       " 0.00010271237184903523,\n",
       " 8.785533367966966,\n",
       " 17.502929883865335]"
      ]
     },
     "execution_count": 5,
     "metadata": {},
     "output_type": "execute_result"
    }
   ],
   "source": [
    "valores_mse"
   ]
  },
  {
   "cell_type": "markdown",
   "id": "cb332654",
   "metadata": {},
   "source": [
    "**ESCALANDO**"
   ]
  },
  {
   "cell_type": "code",
   "execution_count": 6,
   "id": "e834915e",
   "metadata": {},
   "outputs": [],
   "source": [
    "x2 = motor.drop(columns=[\"mpg\"])\n",
    "y2 = motor[\"mpg\"]"
   ]
  },
  {
   "cell_type": "code",
   "execution_count": 7,
   "id": "784078a8",
   "metadata": {},
   "outputs": [
    {
     "name": "stdout",
     "output_type": "stream",
     "text": [
      "MSE promedio: 12.18155800690193\n",
      "Desviación estándar: 17.067399871888554\n"
     ]
    }
   ],
   "source": [
    "n = len(motor)\n",
    "valores_mse2 = []\n",
    "for i in range(n):\n",
    "    x2_train = x2.drop(i).to_numpy()\n",
    "    y2_train = y2.drop(i).to_numpy()\n",
    "    x2_test = x2.iloc[i].to_numpy().reshape(1, -1)\n",
    "    y2_test = y2.iloc[i]\n",
    "    \n",
    "    scaler = StandardScaler().fit(x2_train)\n",
    "    x_scaled_train = scaler.transform(x2_train)\n",
    "    x_scaled_test = scaler.transform(x2_test)\n",
    "    \n",
    "    model = LinearRegression()\n",
    "    model.fit(x_scaled_train, y2_train)\n",
    "    \n",
    "    y_pred2 = model.predict(x_scaled_test)\n",
    "    \n",
    "    mse2 = mean_squared_error([y2_test], y_pred2)\n",
    "    valores_mse2.append(mse2)\n",
    "\n",
    "print(\"MSE promedio:\", np.mean(valores_mse2))\n",
    "print(\"Desviación estándar:\", np.std(valores_mse2))"
   ]
  },
  {
   "cell_type": "code",
   "execution_count": 8,
   "id": "555d0506",
   "metadata": {
    "scrolled": true
   },
   "outputs": [
    {
     "data": {
      "text/plain": [
       "[5.258855796629032,\n",
       " 2.453996713086796,\n",
       " 20.55049341688269,\n",
       " 0.04432910713964311,\n",
       " 1.5811555159760176,\n",
       " 10.11862548887538,\n",
       " 0.0163740415484736,\n",
       " 8.081250710389499,\n",
       " 39.47018347964965,\n",
       " 0.7706327722901085,\n",
       " 4.955694234215864,\n",
       " 10.22473019835441,\n",
       " 4.430129331402705,\n",
       " 0.4878127712478618,\n",
       " 6.823844575809344,\n",
       " 0.6027506975546868,\n",
       " 36.81017860995895,\n",
       " 31.759855581210353,\n",
       " 1.0632275418058037,\n",
       " 32.713286187027215,\n",
       " 14.307173682712742,\n",
       " 3.405354649998901,\n",
       " 9.408007649079861,\n",
       " 0.00010350039803660362,\n",
       " 9.962439534547741,\n",
       " 1.3412208919431232,\n",
       " 0.1648006408222357,\n",
       " 23.60020650224925,\n",
       " 83.11457643385192,\n",
       " 0.00010271237184867518,\n",
       " 8.785533367966272,\n",
       " 17.502929883865395]"
      ]
     },
     "execution_count": 8,
     "metadata": {},
     "output_type": "execute_result"
    }
   ],
   "source": [
    "valores_mse2"
   ]
  },
  {
   "cell_type": "markdown",
   "id": "e0fab82f",
   "metadata": {},
   "source": [
    "*No cambia practicamente nada porque las Y no están siendo escaladas"
   ]
  },
  {
   "cell_type": "markdown",
   "id": "c8724bdb-e50b-4470-b53a-2d9843fae6ea",
   "metadata": {},
   "source": [
    "**Interpreta.**"
   ]
  },
  {
   "cell_type": "markdown",
   "id": "b19904df-1fe6-433a-b1bd-a7ce86ce0eef",
   "metadata": {},
   "source": [
    "A pesar de que el modelo está esencialmente bien y predice bien, no es confiable y no estaría bien afirmar que se puede generalizar porque la desviación estándar es demasiado alta, indicando que en algunos modelos, el MSE promedio fue muy preciso pero en otros se equivocó mucho. O sea, este modelo predice muy bien para ciertos autos, pero para otros no "
   ]
  },
  {
   "cell_type": "markdown",
   "id": "dc8ee166-b442-49f8-bf40-db9aaf9c3db8",
   "metadata": {},
   "source": []
  },
  {
   "cell_type": "markdown",
   "id": "dbc61dd1-fa5f-43b0-969a-592f8e9fc56f",
   "metadata": {},
   "source": [
    "## K-Folds Cross-Validation"
   ]
  },
  {
   "cell_type": "markdown",
   "id": "2dbca526-2c69-4c70-b6b4-270fc51d825b",
   "metadata": {},
   "source": [
    "El dataset `Motor Trend Car Road Tests` sólo tiene 32 muestras, y utilizar un modelo sencillo de regresión múltiple hace que usar LOOCV sea muy rápido. El dataset `California Housing` tiene $20640$ muestras para $9$ columnas, entonces realizar un ajuste sobre una transformación o sobre el modelo y luego calcular el impacto esperado podría tomar más tiempo."
   ]
  },
  {
   "cell_type": "markdown",
   "id": "8a437812-c00e-400f-ae7d-110b3afa5dc3",
   "metadata": {},
   "source": [
    "La solución propuesta es dividir el dataset en *k* folds (partes iguales), ajustar en *k-1* folds y probar en el restante."
   ]
  },
  {
   "cell_type": "markdown",
   "id": "5bb82cc3-0d35-442a-a12b-f9c6fd131af2",
   "metadata": {},
   "source": [
    "### Ejercicio 2\n",
    "Utiliza el dataset `California Housing` y haz K-folds Cross Validation con 10 folds. Utiliza el MSE como métrico."
   ]
  },
  {
   "cell_type": "code",
   "execution_count": 9,
   "id": "ba50e361-edcd-4cdb-9609-68f20d6fca97",
   "metadata": {},
   "outputs": [
    {
     "name": "stdout",
     "output_type": "stream",
     "text": [
      "Dataset Shape: (20640, 8) (20640,)\n",
      "Dataset Features: ['MedInc', 'HouseAge', 'AveRooms', 'AveBedrms', 'Population', 'AveOccup', 'Latitude', 'Longitude']\n",
      "Dataset Target: ['MedHouseVal']\n"
     ]
    }
   ],
   "source": [
    "from sklearn.datasets import fetch_california_housing\n",
    "\n",
    "housing = fetch_california_housing()\n",
    "print(\"Dataset Shape:\", housing.data.shape, housing.target.shape)\n",
    "print(\"Dataset Features:\", housing.feature_names)\n",
    "print(\"Dataset Target:\", housing.target_names)\n",
    "X = housing.data\n",
    "y = housing.target"
   ]
  },
  {
   "cell_type": "code",
   "execution_count": 10,
   "id": "54f44358-f47d-493b-93cf-10aa2314fa20",
   "metadata": {},
   "outputs": [],
   "source": [
    "housing_new = np.random.permutation(len(X))\n",
    "\n",
    "X_shuffled = X[housing_new]\n",
    "y_shuffled = y[housing_new]"
   ]
  },
  {
   "cell_type": "code",
   "execution_count": 14,
   "id": "cb0636e3",
   "metadata": {},
   "outputs": [
    {
     "name": "stdout",
     "output_type": "stream",
     "text": [
      "MSE promedio: 0.528790281993409\n",
      "Desviación estándar: 0.022931070333301374\n"
     ]
    }
   ],
   "source": [
    "n = len(X_shuffled)\n",
    "k = 10\n",
    "fold_size = n // k\n",
    "\n",
    "valores_mse = []\n",
    "\n",
    "for i in range(k):\n",
    "    start = i * fold_size\n",
    "    end = (i + 1) * fold_size\n",
    "    \n",
    "    x_test = X_shuffled[start:end]\n",
    "    y_test = y_shuffled[start:end]\n",
    "    \n",
    "    x_train = np.concatenate([X_shuffled[:start], X_shuffled[end:]])\n",
    "    y_train = np.concatenate([y_shuffled[:start], y_shuffled[end:]])\n",
    "    \n",
    "    lr = LinearRegression()\n",
    "    lr.fit(x_train, y_train)\n",
    "    \n",
    "    y_pred = lr.predict(x_test)\n",
    "    \n",
    "    mse = mean_squared_error(y_test, y_pred)\n",
    "    valores_mse.append(mse)\n",
    "\n",
    "print(\"MSE promedio:\", np.mean(valores_mse))\n",
    "print(\"Desviación estándar:\", np.std(valores_mse))"
   ]
  },
  {
   "cell_type": "markdown",
   "id": "34f7098f-a1de-4508-b3ff-af1484561856",
   "metadata": {},
   "source": [
    "Interpreta."
   ]
  },
  {
   "cell_type": "markdown",
   "id": "b7fbaf4d-f62b-46d9-9a35-23fcdd50a8ca",
   "metadata": {},
   "source": [
    "Diría que este modelo si es confiable y preciso, ya que, la desviación estándar es muy baja, indicando que no hay mucha variación entre las diferentes 10 pruebas."
   ]
  },
  {
   "cell_type": "markdown",
   "id": "333c8039-5b38-4835-a523-d4f6f7a7040b",
   "metadata": {},
   "source": []
  },
  {
   "cell_type": "markdown",
   "id": "da5792ac-6d38-4f02-bf10-aeaa0a040d17",
   "metadata": {},
   "source": [
    "## Referencia\n",
    "\n",
    "James, G., Witten, D., Hastie, T., Tibshirani, R.,, Taylor, J. (2023). An Introduction to Statistical Learning with Applications in Python. Cham: Springer. ISBN: 978-3-031-38746-3"
   ]
  }
 ],
 "metadata": {
  "kernelspec": {
   "display_name": "Python 3 (ipykernel)",
   "language": "python",
   "name": "python3"
  },
  "language_info": {
   "codemirror_mode": {
    "name": "ipython",
    "version": 3
   },
   "file_extension": ".py",
   "mimetype": "text/x-python",
   "name": "python",
   "nbconvert_exporter": "python",
   "pygments_lexer": "ipython3",
   "version": "3.11.4"
  }
 },
 "nbformat": 4,
 "nbformat_minor": 5
}
