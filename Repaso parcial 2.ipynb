{
 "cells": [
  {
   "cell_type": "markdown",
   "id": "61d3f7b7",
   "metadata": {},
   "source": [
    "## REPASO 2\n",
    "\n",
    "JULIA HERNÁNDEZ CÁRDENAS"
   ]
  },
  {
   "cell_type": "code",
   "execution_count": 22,
   "id": "bb7b0b4d",
   "metadata": {},
   "outputs": [],
   "source": [
    "import pandas as pd\n",
    "import numpy as np\n",
    "import matplotlib.pyplot as plt\n",
    "import statsmodels.api as sm\n",
    "from sklearn.metrics import r2_score, mean_squared_error\n",
    "from sklearn.preprocessing import StandardScaler\n",
    "from sklearn.compose import ColumnTransformer\n",
    "from sklearn.neural_network import MLPClassifier\n",
    "from sklearn.pipeline import Pipeline\n",
    "from sklearn.model_selection import GridSearchCV\n",
    "from sklearn.gaussian_process.kernels import RBF\n",
    "from sklearn.gaussian_process import GaussianProcessRegressor\n",
    "from scipy.stats import t \n",
    "from sklearn.svm import SVC\n",
    "from sklearn.linear_model import LinearRegression, Ridge, Lasso, LogisticRegression\n",
    "from sklearn.preprocessing import StandardScaler, PolynomialFeatures\n",
    "from sklearn.model_selection import KFold, train_test_split, cross_validate"
   ]
  },
  {
   "cell_type": "code",
   "execution_count": 23,
   "id": "23e3cfc3",
   "metadata": {
    "scrolled": false
   },
   "outputs": [],
   "source": [
    "df = pd.read_csv(\"brain_tumor_dataset.csv\")\n",
    "df.dropna()\n",
    "df.drop_duplicates()\n",
    "df = df.drop(columns=['Patient_ID'])\n",
    "df = df.head(5000)"
   ]
  },
  {
   "cell_type": "code",
   "execution_count": 24,
   "id": "2e665aa3",
   "metadata": {},
   "outputs": [],
   "source": [
    "x = df.drop(columns=[\"Tumor_Type\"])\n",
    "y = df[[\"Tumor_Type\"]]"
   ]
  },
  {
   "cell_type": "code",
   "execution_count": 25,
   "id": "92d0c384",
   "metadata": {},
   "outputs": [],
   "source": [
    "num_features = [\"Age\", \"Tumor_Size\", \"Survival_Rate\", \"Tumor_Growth_Rate\"]\n",
    "cat_features = [\"Gender\", 'Location', 'Histology', 'Stage', \n",
    "               'Radiation_Treatment', 'Surgery_Performed','Chemotherapy','Family_History','MRI_Result','Follow_Up_Required']\n",
    "target = [\"Tumor_Type\"]\n",
    "X = df[num_features + cat_features]\n",
    "y = df[target].values.ravel()"
   ]
  },
  {
   "cell_type": "code",
   "execution_count": 26,
   "id": "8e6e97c3",
   "metadata": {},
   "outputs": [],
   "source": [
    "X=pd.get_dummies(X, columns=['Gender','Location','Histology','Stage',\n",
    "                            'Radiation_Treatment','Surgery_Performed','Chemotherapy','Family_History',\n",
    "                            'MRI_Result','Follow_Up_Required'])\n",
    "#X = X.astype(int)"
   ]
  },
  {
   "cell_type": "code",
   "execution_count": 27,
   "id": "de98b820",
   "metadata": {},
   "outputs": [],
   "source": [
    "scaler = StandardScaler().fit(X)\n",
    "X = scaler.transform(X)"
   ]
  },
  {
   "cell_type": "code",
   "execution_count": 28,
   "id": "5ac092f7",
   "metadata": {},
   "outputs": [],
   "source": [
    "indice = list(range(X.shape[1]))\n",
    "preprocessor = ColumnTransformer(\n",
    "    transformers=[('num', StandardScaler(), indice)],\n",
    "    remainder='drop'\n",
    ")\n",
    "\n",
    "kfolds = KFold(n_splits=10, shuffle=True, random_state=42)\n",
    "\n",
    "scoring = {\n",
    "    'accuracy': 'accuracy',\n",
    "    'auc_ovr': 'roc_auc_ovr' \n",
    "}\n",
    "\n",
    "resultados = []\n",
    "\n",
    "C_values = [0.1, 0.2, 0.3, 0.4, 0.5]\n",
    "kernels = ['linear'] \n",
    "\n",
    "for k in kernels:\n",
    "    for C_val in C_values:\n",
    "        \n",
    "        pipeline = Pipeline(steps=[\n",
    "            ('preprocessor', preprocessor),\n",
    "            ('model', SVC(\n",
    "                C=C_val,          \n",
    "                kernel=k, \n",
    "                gamma='scale', \n",
    "                degree=2, \n",
    "                probability=True,   \n",
    "                random_state=42\n",
    "            ))\n",
    "        ])\n",
    "        \n",
    "        scores = cross_validate(pipeline, X, y, cv=kfolds, scoring=scoring, n_jobs=-1)\n",
    "        \n",
    "        resultados.append({\n",
    "            'modelo': f'svc_{k}',\n",
    "            'C': C_val,\n",
    "            'accuracy_mean': np.mean(scores['test_accuracy']),\n",
    "            'accuracy_std':  np.std(scores['test_accuracy']),\n",
    "            'AUC_ovr_mean': np.mean(scores['test_auc_ovr']),\n",
    "        })"
   ]
  },
  {
   "cell_type": "code",
   "execution_count": 30,
   "id": "05913eef",
   "metadata": {},
   "outputs": [
    {
     "name": "stdout",
     "output_type": "stream",
     "text": [
      "       modelo    C  accuracy_mean  accuracy_std  AUC_ovr_mean\n",
      "4  svc_linear  0.5         0.4916      0.008800      0.503185\n",
      "0  svc_linear  0.1         0.4942      0.010713      0.503125\n",
      "1  svc_linear  0.2         0.4928      0.008588      0.503051\n",
      "2  svc_linear  0.3         0.4918      0.008829      0.502659\n",
      "3  svc_linear  0.4         0.4908      0.009765      0.501863\n"
     ]
    }
   ],
   "source": [
    "resultados_df = pd.DataFrame(resultados)\n",
    "print(resultados_df.sort_values(by='AUC_ovr_mean', ascending=False))"
   ]
  },
  {
   "cell_type": "code",
   "execution_count": null,
   "id": "57ad468f",
   "metadata": {},
   "outputs": [],
   "source": []
  },
  {
   "cell_type": "code",
   "execution_count": null,
   "id": "b35107f0",
   "metadata": {},
   "outputs": [],
   "source": []
  },
  {
   "cell_type": "code",
   "execution_count": null,
   "id": "8354f046",
   "metadata": {},
   "outputs": [],
   "source": []
  }
 ],
 "metadata": {
  "kernelspec": {
   "display_name": "Python 3 (ipykernel)",
   "language": "python",
   "name": "python3"
  },
  "language_info": {
   "codemirror_mode": {
    "name": "ipython",
    "version": 3
   },
   "file_extension": ".py",
   "mimetype": "text/x-python",
   "name": "python",
   "nbconvert_exporter": "python",
   "pygments_lexer": "ipython3",
   "version": "3.11.4"
  }
 },
 "nbformat": 4,
 "nbformat_minor": 5
}
