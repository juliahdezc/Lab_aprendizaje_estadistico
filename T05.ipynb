{
 "cells": [
  {
   "cell_type": "markdown",
   "id": "8a0933fb",
   "metadata": {},
   "source": [
    "# Tarea 5\n",
    "\n",
    "## Motor Trend Car Road Tests\n",
    "\n",
    "Julia Hernández Cárdenas"
   ]
  },
  {
   "cell_type": "code",
   "execution_count": 1,
   "id": "3adc5559",
   "metadata": {},
   "outputs": [],
   "source": [
    "import pandas as pd\n",
    "import numpy as np\n",
    "from sklearn.linear_model import LinearRegression\n",
    "import matplotlib.pyplot as plt\n",
    "from sklearn.metrics import r2_score\n",
    "import statsmodels.api as sm\n",
    "from sklearn.linear_model import Ridge\n",
    "from sklearn.linear_model import Lasso\n",
    "from sklearn.preprocessing import StandardScaler\n",
    "from sklearn.model_selection import train_test_split\n",
    "from sklearn.metrics import mean_squared_error"
   ]
  },
  {
   "cell_type": "code",
   "execution_count": 2,
   "id": "bd33bb7d",
   "metadata": {},
   "outputs": [],
   "source": [
    "motor = pd.read_excel(\"Motor Trend Car Road Tests.xlsx\")\n",
    "motor.dropna()\n",
    "motor.drop_duplicates()\n",
    "motor = motor.drop(columns = [\"model\"])"
   ]
  },
  {
   "cell_type": "markdown",
   "id": "76e9445b",
   "metadata": {},
   "source": [
    "**1.1** Realiza una regresión tomando 'mpg' como salida y eliminando la columna 'model'. Considera todos los demás factores como numéricos/ordinales.\n",
    "\n",
    "1. Calcula el R2 e interpreta los signos de los betas.\n",
    "2. Realiza un train-test-split donde se use el 40% de los datos para entrenar. \n",
    "3. Calcula el R2 de entrenamiento y de prueba.\n",
    "4. Añade regularización L2 con un hiperparámetro lambda decidido por ti. \n",
    "5. Cambia este valor y compara con varios distintos los R2 de entrenamiento y de prueba."
   ]
  },
  {
   "cell_type": "code",
   "execution_count": 3,
   "id": "4557dd9d",
   "metadata": {},
   "outputs": [],
   "source": [
    "x = motor.drop(columns=[\"mpg\"])\n",
    "y = motor[\"mpg\"]"
   ]
  },
  {
   "cell_type": "markdown",
   "id": "b24e43ad",
   "metadata": {},
   "source": [
    "**1.**"
   ]
  },
  {
   "cell_type": "code",
   "execution_count": 4,
   "id": "662cd45a",
   "metadata": {
    "scrolled": true
   },
   "outputs": [
    {
     "data": {
      "text/html": [
       "<table class=\"simpletable\">\n",
       "<caption>OLS Regression Results</caption>\n",
       "<tr>\n",
       "  <th>Dep. Variable:</th>           <td>mpg</td>       <th>  R-squared:         </th> <td>   0.869</td>\n",
       "</tr>\n",
       "<tr>\n",
       "  <th>Model:</th>                   <td>OLS</td>       <th>  Adj. R-squared:    </th> <td>   0.807</td>\n",
       "</tr>\n",
       "<tr>\n",
       "  <th>Method:</th>             <td>Least Squares</td>  <th>  F-statistic:       </th> <td>   13.93</td>\n",
       "</tr>\n",
       "<tr>\n",
       "  <th>Date:</th>             <td>Thu, 18 Sep 2025</td> <th>  Prob (F-statistic):</th> <td>3.79e-07</td>\n",
       "</tr>\n",
       "<tr>\n",
       "  <th>Time:</th>                 <td>16:48:14</td>     <th>  Log-Likelihood:    </th> <td> -69.855</td>\n",
       "</tr>\n",
       "<tr>\n",
       "  <th>No. Observations:</th>      <td>    32</td>      <th>  AIC:               </th> <td>   161.7</td>\n",
       "</tr>\n",
       "<tr>\n",
       "  <th>Df Residuals:</th>          <td>    21</td>      <th>  BIC:               </th> <td>   177.8</td>\n",
       "</tr>\n",
       "<tr>\n",
       "  <th>Df Model:</th>              <td>    10</td>      <th>                     </th>     <td> </td>   \n",
       "</tr>\n",
       "<tr>\n",
       "  <th>Covariance Type:</th>      <td>nonrobust</td>    <th>                     </th>     <td> </td>   \n",
       "</tr>\n",
       "</table>\n",
       "<table class=\"simpletable\">\n",
       "<tr>\n",
       "    <td></td>       <th>coef</th>     <th>std err</th>      <th>t</th>      <th>P>|t|</th>  <th>[0.025</th>    <th>0.975]</th>  \n",
       "</tr>\n",
       "<tr>\n",
       "  <th>const</th> <td>   12.3034</td> <td>   18.718</td> <td>    0.657</td> <td> 0.518</td> <td>  -26.623</td> <td>   51.229</td>\n",
       "</tr>\n",
       "<tr>\n",
       "  <th>cyl</th>   <td>   -0.1114</td> <td>    1.045</td> <td>   -0.107</td> <td> 0.916</td> <td>   -2.285</td> <td>    2.062</td>\n",
       "</tr>\n",
       "<tr>\n",
       "  <th>disp</th>  <td>    0.0133</td> <td>    0.018</td> <td>    0.747</td> <td> 0.463</td> <td>   -0.024</td> <td>    0.050</td>\n",
       "</tr>\n",
       "<tr>\n",
       "  <th>hp</th>    <td>   -0.0215</td> <td>    0.022</td> <td>   -0.987</td> <td> 0.335</td> <td>   -0.067</td> <td>    0.024</td>\n",
       "</tr>\n",
       "<tr>\n",
       "  <th>drat</th>  <td>    0.7871</td> <td>    1.635</td> <td>    0.481</td> <td> 0.635</td> <td>   -2.614</td> <td>    4.188</td>\n",
       "</tr>\n",
       "<tr>\n",
       "  <th>wt</th>    <td>   -3.7153</td> <td>    1.894</td> <td>   -1.961</td> <td> 0.063</td> <td>   -7.655</td> <td>    0.224</td>\n",
       "</tr>\n",
       "<tr>\n",
       "  <th>qsec</th>  <td>    0.8210</td> <td>    0.731</td> <td>    1.123</td> <td> 0.274</td> <td>   -0.699</td> <td>    2.341</td>\n",
       "</tr>\n",
       "<tr>\n",
       "  <th>vs</th>    <td>    0.3178</td> <td>    2.105</td> <td>    0.151</td> <td> 0.881</td> <td>   -4.059</td> <td>    4.694</td>\n",
       "</tr>\n",
       "<tr>\n",
       "  <th>am</th>    <td>    2.5202</td> <td>    2.057</td> <td>    1.225</td> <td> 0.234</td> <td>   -1.757</td> <td>    6.797</td>\n",
       "</tr>\n",
       "<tr>\n",
       "  <th>gear</th>  <td>    0.6554</td> <td>    1.493</td> <td>    0.439</td> <td> 0.665</td> <td>   -2.450</td> <td>    3.761</td>\n",
       "</tr>\n",
       "<tr>\n",
       "  <th>carb</th>  <td>   -0.1994</td> <td>    0.829</td> <td>   -0.241</td> <td> 0.812</td> <td>   -1.923</td> <td>    1.524</td>\n",
       "</tr>\n",
       "</table>\n",
       "<table class=\"simpletable\">\n",
       "<tr>\n",
       "  <th>Omnibus:</th>       <td> 1.907</td> <th>  Durbin-Watson:     </th> <td>   1.861</td>\n",
       "</tr>\n",
       "<tr>\n",
       "  <th>Prob(Omnibus):</th> <td> 0.385</td> <th>  Jarque-Bera (JB):  </th> <td>   1.747</td>\n",
       "</tr>\n",
       "<tr>\n",
       "  <th>Skew:</th>          <td> 0.521</td> <th>  Prob(JB):          </th> <td>   0.418</td>\n",
       "</tr>\n",
       "<tr>\n",
       "  <th>Kurtosis:</th>      <td> 2.526</td> <th>  Cond. No.          </th> <td>1.22e+04</td>\n",
       "</tr>\n",
       "</table><br/><br/>Notes:<br/>[1] Standard Errors assume that the covariance matrix of the errors is correctly specified.<br/>[2] The condition number is large, 1.22e+04. This might indicate that there are<br/>strong multicollinearity or other numerical problems."
      ],
      "text/latex": [
       "\\begin{center}\n",
       "\\begin{tabular}{lclc}\n",
       "\\toprule\n",
       "\\textbf{Dep. Variable:}    &       mpg        & \\textbf{  R-squared:         } &     0.869   \\\\\n",
       "\\textbf{Model:}            &       OLS        & \\textbf{  Adj. R-squared:    } &     0.807   \\\\\n",
       "\\textbf{Method:}           &  Least Squares   & \\textbf{  F-statistic:       } &     13.93   \\\\\n",
       "\\textbf{Date:}             & Thu, 18 Sep 2025 & \\textbf{  Prob (F-statistic):} &  3.79e-07   \\\\\n",
       "\\textbf{Time:}             &     16:48:14     & \\textbf{  Log-Likelihood:    } &   -69.855   \\\\\n",
       "\\textbf{No. Observations:} &          32      & \\textbf{  AIC:               } &     161.7   \\\\\n",
       "\\textbf{Df Residuals:}     &          21      & \\textbf{  BIC:               } &     177.8   \\\\\n",
       "\\textbf{Df Model:}         &          10      & \\textbf{                     } &             \\\\\n",
       "\\textbf{Covariance Type:}  &    nonrobust     & \\textbf{                     } &             \\\\\n",
       "\\bottomrule\n",
       "\\end{tabular}\n",
       "\\begin{tabular}{lcccccc}\n",
       "               & \\textbf{coef} & \\textbf{std err} & \\textbf{t} & \\textbf{P$> |$t$|$} & \\textbf{[0.025} & \\textbf{0.975]}  \\\\\n",
       "\\midrule\n",
       "\\textbf{const} &      12.3034  &       18.718     &     0.657  &         0.518        &      -26.623    &       51.229     \\\\\n",
       "\\textbf{cyl}   &      -0.1114  &        1.045     &    -0.107  &         0.916        &       -2.285    &        2.062     \\\\\n",
       "\\textbf{disp}  &       0.0133  &        0.018     &     0.747  &         0.463        &       -0.024    &        0.050     \\\\\n",
       "\\textbf{hp}    &      -0.0215  &        0.022     &    -0.987  &         0.335        &       -0.067    &        0.024     \\\\\n",
       "\\textbf{drat}  &       0.7871  &        1.635     &     0.481  &         0.635        &       -2.614    &        4.188     \\\\\n",
       "\\textbf{wt}    &      -3.7153  &        1.894     &    -1.961  &         0.063        &       -7.655    &        0.224     \\\\\n",
       "\\textbf{qsec}  &       0.8210  &        0.731     &     1.123  &         0.274        &       -0.699    &        2.341     \\\\\n",
       "\\textbf{vs}    &       0.3178  &        2.105     &     0.151  &         0.881        &       -4.059    &        4.694     \\\\\n",
       "\\textbf{am}    &       2.5202  &        2.057     &     1.225  &         0.234        &       -1.757    &        6.797     \\\\\n",
       "\\textbf{gear}  &       0.6554  &        1.493     &     0.439  &         0.665        &       -2.450    &        3.761     \\\\\n",
       "\\textbf{carb}  &      -0.1994  &        0.829     &    -0.241  &         0.812        &       -1.923    &        1.524     \\\\\n",
       "\\bottomrule\n",
       "\\end{tabular}\n",
       "\\begin{tabular}{lclc}\n",
       "\\textbf{Omnibus:}       &  1.907 & \\textbf{  Durbin-Watson:     } &    1.861  \\\\\n",
       "\\textbf{Prob(Omnibus):} &  0.385 & \\textbf{  Jarque-Bera (JB):  } &    1.747  \\\\\n",
       "\\textbf{Skew:}          &  0.521 & \\textbf{  Prob(JB):          } &    0.418  \\\\\n",
       "\\textbf{Kurtosis:}      &  2.526 & \\textbf{  Cond. No.          } & 1.22e+04  \\\\\n",
       "\\bottomrule\n",
       "\\end{tabular}\n",
       "%\\caption{OLS Regression Results}\n",
       "\\end{center}\n",
       "\n",
       "Notes: \\newline\n",
       " [1] Standard Errors assume that the covariance matrix of the errors is correctly specified. \\newline\n",
       " [2] The condition number is large, 1.22e+04. This might indicate that there are \\newline\n",
       " strong multicollinearity or other numerical problems."
      ],
      "text/plain": [
       "<class 'statsmodels.iolib.summary.Summary'>\n",
       "\"\"\"\n",
       "                            OLS Regression Results                            \n",
       "==============================================================================\n",
       "Dep. Variable:                    mpg   R-squared:                       0.869\n",
       "Model:                            OLS   Adj. R-squared:                  0.807\n",
       "Method:                 Least Squares   F-statistic:                     13.93\n",
       "Date:                Thu, 18 Sep 2025   Prob (F-statistic):           3.79e-07\n",
       "Time:                        16:48:14   Log-Likelihood:                -69.855\n",
       "No. Observations:                  32   AIC:                             161.7\n",
       "Df Residuals:                      21   BIC:                             177.8\n",
       "Df Model:                          10                                         \n",
       "Covariance Type:            nonrobust                                         \n",
       "==============================================================================\n",
       "                 coef    std err          t      P>|t|      [0.025      0.975]\n",
       "------------------------------------------------------------------------------\n",
       "const         12.3034     18.718      0.657      0.518     -26.623      51.229\n",
       "cyl           -0.1114      1.045     -0.107      0.916      -2.285       2.062\n",
       "disp           0.0133      0.018      0.747      0.463      -0.024       0.050\n",
       "hp            -0.0215      0.022     -0.987      0.335      -0.067       0.024\n",
       "drat           0.7871      1.635      0.481      0.635      -2.614       4.188\n",
       "wt            -3.7153      1.894     -1.961      0.063      -7.655       0.224\n",
       "qsec           0.8210      0.731      1.123      0.274      -0.699       2.341\n",
       "vs             0.3178      2.105      0.151      0.881      -4.059       4.694\n",
       "am             2.5202      2.057      1.225      0.234      -1.757       6.797\n",
       "gear           0.6554      1.493      0.439      0.665      -2.450       3.761\n",
       "carb          -0.1994      0.829     -0.241      0.812      -1.923       1.524\n",
       "==============================================================================\n",
       "Omnibus:                        1.907   Durbin-Watson:                   1.861\n",
       "Prob(Omnibus):                  0.385   Jarque-Bera (JB):                1.747\n",
       "Skew:                           0.521   Prob(JB):                        0.418\n",
       "Kurtosis:                       2.526   Cond. No.                     1.22e+04\n",
       "==============================================================================\n",
       "\n",
       "Notes:\n",
       "[1] Standard Errors assume that the covariance matrix of the errors is correctly specified.\n",
       "[2] The condition number is large, 1.22e+04. This might indicate that there are\n",
       "strong multicollinearity or other numerical problems.\n",
       "\"\"\""
      ]
     },
     "execution_count": 4,
     "metadata": {},
     "output_type": "execute_result"
    }
   ],
   "source": [
    "x = sm.add_constant(x)\n",
    "ols = sm.OLS(y, x)\n",
    "results = ols.fit()\n",
    "results.summary()"
   ]
  },
  {
   "cell_type": "markdown",
   "id": "16c042a7",
   "metadata": {},
   "source": [
    "El R^2 es de 0.869, y las betas salieron tanto positivas como negativas, indicando que hay factores (como am, qsec y gear que si influyen, y valores (como wt y carb) que no influyen tan bien"
   ]
  },
  {
   "cell_type": "markdown",
   "id": "b7b48eed",
   "metadata": {},
   "source": [
    "**2.**"
   ]
  },
  {
   "cell_type": "code",
   "execution_count": 5,
   "id": "4b745b58",
   "metadata": {},
   "outputs": [],
   "source": [
    "Xtrain, Xtest, Ytrain, Ytest = train_test_split(x, y, train_size = 0.4, random_state = 137)"
   ]
  },
  {
   "cell_type": "markdown",
   "id": "c9a6fc3e",
   "metadata": {},
   "source": [
    "**3.**"
   ]
  },
  {
   "cell_type": "code",
   "execution_count": 6,
   "id": "cd4e700f",
   "metadata": {},
   "outputs": [],
   "source": [
    "scaler = StandardScaler().fit(Xtrain)\n",
    "X_scaled = scaler.transform(Xtrain)"
   ]
  },
  {
   "cell_type": "markdown",
   "id": "924ba8dd",
   "metadata": {},
   "source": [
    "Entrenamiento"
   ]
  },
  {
   "cell_type": "code",
   "execution_count": 7,
   "id": "cbc6b8b3",
   "metadata": {
    "scrolled": true
   },
   "outputs": [
    {
     "name": "stderr",
     "output_type": "stream",
     "text": [
      "/Users/juliahernandez/anaconda3/lib/python3.11/site-packages/scipy/stats/_stats_py.py:1736: UserWarning: kurtosistest only valid for n>=20 ... continuing anyway, n=12\n",
      "  warnings.warn(\"kurtosistest only valid for n>=20 ... continuing \"\n"
     ]
    },
    {
     "data": {
      "text/html": [
       "<table class=\"simpletable\">\n",
       "<caption>OLS Regression Results</caption>\n",
       "<tr>\n",
       "  <th>Dep. Variable:</th>           <td>mpg</td>       <th>  R-squared:         </th> <td>   0.990</td>\n",
       "</tr>\n",
       "<tr>\n",
       "  <th>Model:</th>                   <td>OLS</td>       <th>  Adj. R-squared:    </th> <td>   0.891</td>\n",
       "</tr>\n",
       "<tr>\n",
       "  <th>Method:</th>             <td>Least Squares</td>  <th>  F-statistic:       </th> <td>   9.981</td>\n",
       "</tr>\n",
       "<tr>\n",
       "  <th>Date:</th>             <td>Thu, 18 Sep 2025</td> <th>  Prob (F-statistic):</th>  <td> 0.242</td> \n",
       "</tr>\n",
       "<tr>\n",
       "  <th>Time:</th>                 <td>16:48:14</td>     <th>  Log-Likelihood:    </th> <td> -9.9811</td>\n",
       "</tr>\n",
       "<tr>\n",
       "  <th>No. Observations:</th>      <td>    12</td>      <th>  AIC:               </th> <td>   41.96</td>\n",
       "</tr>\n",
       "<tr>\n",
       "  <th>Df Residuals:</th>          <td>     1</td>      <th>  BIC:               </th> <td>   47.30</td>\n",
       "</tr>\n",
       "<tr>\n",
       "  <th>Df Model:</th>              <td>    10</td>      <th>                     </th>     <td> </td>   \n",
       "</tr>\n",
       "<tr>\n",
       "  <th>Covariance Type:</th>      <td>nonrobust</td>    <th>                     </th>     <td> </td>   \n",
       "</tr>\n",
       "</table>\n",
       "<table class=\"simpletable\">\n",
       "<tr>\n",
       "    <td></td>       <th>coef</th>     <th>std err</th>      <th>t</th>      <th>P>|t|</th>  <th>[0.025</th>    <th>0.975]</th>  \n",
       "</tr>\n",
       "<tr>\n",
       "  <th>const</th> <td>   17.4333</td> <td>    0.556</td> <td>   31.361</td> <td> 0.020</td> <td>   10.370</td> <td>   24.497</td>\n",
       "</tr>\n",
       "<tr>\n",
       "  <th>x1</th>    <td> 1.005e-13</td> <td> 1.26e-13</td> <td>    0.795</td> <td> 0.572</td> <td>-1.51e-12</td> <td> 1.71e-12</td>\n",
       "</tr>\n",
       "<tr>\n",
       "  <th>x2</th>    <td>   40.7571</td> <td>   54.010</td> <td>    0.755</td> <td> 0.588</td> <td> -645.499</td> <td>  727.013</td>\n",
       "</tr>\n",
       "<tr>\n",
       "  <th>x3</th>    <td>   -2.4635</td> <td>    3.021</td> <td>   -0.815</td> <td> 0.565</td> <td>  -40.854</td> <td>   35.927</td>\n",
       "</tr>\n",
       "<tr>\n",
       "  <th>x4</th>    <td>  -10.1581</td> <td>   19.484</td> <td>   -0.521</td> <td> 0.694</td> <td> -257.727</td> <td>  237.411</td>\n",
       "</tr>\n",
       "<tr>\n",
       "  <th>x5</th>    <td>   14.1135</td> <td>   13.469</td> <td>    1.048</td> <td> 0.485</td> <td> -157.022</td> <td>  185.249</td>\n",
       "</tr>\n",
       "<tr>\n",
       "  <th>x6</th>    <td>   -0.8005</td> <td>    3.106</td> <td>   -0.258</td> <td> 0.839</td> <td>  -40.266</td> <td>   38.665</td>\n",
       "</tr>\n",
       "<tr>\n",
       "  <th>x7</th>    <td>    1.5727</td> <td>    3.475</td> <td>    0.453</td> <td> 0.729</td> <td>  -42.583</td> <td>   45.729</td>\n",
       "</tr>\n",
       "<tr>\n",
       "  <th>x8</th>    <td>   32.4926</td> <td>   41.262</td> <td>    0.787</td> <td> 0.575</td> <td> -491.795</td> <td>  556.780</td>\n",
       "</tr>\n",
       "<tr>\n",
       "  <th>x9</th>    <td>   36.1394</td> <td>   42.669</td> <td>    0.847</td> <td> 0.553</td> <td> -506.022</td> <td>  578.301</td>\n",
       "</tr>\n",
       "<tr>\n",
       "  <th>x10</th>   <td>  -38.3551</td> <td>   43.625</td> <td>   -0.879</td> <td> 0.541</td> <td> -592.668</td> <td>  515.958</td>\n",
       "</tr>\n",
       "<tr>\n",
       "  <th>x11</th>   <td>   11.9707</td> <td>   17.482</td> <td>    0.685</td> <td> 0.618</td> <td> -210.157</td> <td>  234.098</td>\n",
       "</tr>\n",
       "</table>\n",
       "<table class=\"simpletable\">\n",
       "<tr>\n",
       "  <th>Omnibus:</th>       <td> 0.259</td> <th>  Durbin-Watson:     </th> <td>   2.354</td>\n",
       "</tr>\n",
       "<tr>\n",
       "  <th>Prob(Omnibus):</th> <td> 0.879</td> <th>  Jarque-Bera (JB):  </th> <td>   0.413</td>\n",
       "</tr>\n",
       "<tr>\n",
       "  <th>Skew:</th>          <td> 0.212</td> <th>  Prob(JB):          </th> <td>   0.813</td>\n",
       "</tr>\n",
       "<tr>\n",
       "  <th>Kurtosis:</th>      <td> 2.196</td> <th>  Cond. No.          </th> <td>6.18e+17</td>\n",
       "</tr>\n",
       "</table><br/><br/>Notes:<br/>[1] Standard Errors assume that the covariance matrix of the errors is correctly specified.<br/>[2] The smallest eigenvalue is 1.54e-34. This might indicate that there are<br/>strong multicollinearity problems or that the design matrix is singular."
      ],
      "text/latex": [
       "\\begin{center}\n",
       "\\begin{tabular}{lclc}\n",
       "\\toprule\n",
       "\\textbf{Dep. Variable:}    &       mpg        & \\textbf{  R-squared:         } &     0.990   \\\\\n",
       "\\textbf{Model:}            &       OLS        & \\textbf{  Adj. R-squared:    } &     0.891   \\\\\n",
       "\\textbf{Method:}           &  Least Squares   & \\textbf{  F-statistic:       } &     9.981   \\\\\n",
       "\\textbf{Date:}             & Thu, 18 Sep 2025 & \\textbf{  Prob (F-statistic):} &    0.242    \\\\\n",
       "\\textbf{Time:}             &     16:48:14     & \\textbf{  Log-Likelihood:    } &   -9.9811   \\\\\n",
       "\\textbf{No. Observations:} &          12      & \\textbf{  AIC:               } &     41.96   \\\\\n",
       "\\textbf{Df Residuals:}     &           1      & \\textbf{  BIC:               } &     47.30   \\\\\n",
       "\\textbf{Df Model:}         &          10      & \\textbf{                     } &             \\\\\n",
       "\\textbf{Covariance Type:}  &    nonrobust     & \\textbf{                     } &             \\\\\n",
       "\\bottomrule\n",
       "\\end{tabular}\n",
       "\\begin{tabular}{lcccccc}\n",
       "               & \\textbf{coef} & \\textbf{std err} & \\textbf{t} & \\textbf{P$> |$t$|$} & \\textbf{[0.025} & \\textbf{0.975]}  \\\\\n",
       "\\midrule\n",
       "\\textbf{const} &      17.4333  &        0.556     &    31.361  &         0.020        &       10.370    &       24.497     \\\\\n",
       "\\textbf{x1}    &    1.005e-13  &     1.26e-13     &     0.795  &         0.572        &    -1.51e-12    &     1.71e-12     \\\\\n",
       "\\textbf{x2}    &      40.7571  &       54.010     &     0.755  &         0.588        &     -645.499    &      727.013     \\\\\n",
       "\\textbf{x3}    &      -2.4635  &        3.021     &    -0.815  &         0.565        &      -40.854    &       35.927     \\\\\n",
       "\\textbf{x4}    &     -10.1581  &       19.484     &    -0.521  &         0.694        &     -257.727    &      237.411     \\\\\n",
       "\\textbf{x5}    &      14.1135  &       13.469     &     1.048  &         0.485        &     -157.022    &      185.249     \\\\\n",
       "\\textbf{x6}    &      -0.8005  &        3.106     &    -0.258  &         0.839        &      -40.266    &       38.665     \\\\\n",
       "\\textbf{x7}    &       1.5727  &        3.475     &     0.453  &         0.729        &      -42.583    &       45.729     \\\\\n",
       "\\textbf{x8}    &      32.4926  &       41.262     &     0.787  &         0.575        &     -491.795    &      556.780     \\\\\n",
       "\\textbf{x9}    &      36.1394  &       42.669     &     0.847  &         0.553        &     -506.022    &      578.301     \\\\\n",
       "\\textbf{x10}   &     -38.3551  &       43.625     &    -0.879  &         0.541        &     -592.668    &      515.958     \\\\\n",
       "\\textbf{x11}   &      11.9707  &       17.482     &     0.685  &         0.618        &     -210.157    &      234.098     \\\\\n",
       "\\bottomrule\n",
       "\\end{tabular}\n",
       "\\begin{tabular}{lclc}\n",
       "\\textbf{Omnibus:}       &  0.259 & \\textbf{  Durbin-Watson:     } &    2.354  \\\\\n",
       "\\textbf{Prob(Omnibus):} &  0.879 & \\textbf{  Jarque-Bera (JB):  } &    0.413  \\\\\n",
       "\\textbf{Skew:}          &  0.212 & \\textbf{  Prob(JB):          } &    0.813  \\\\\n",
       "\\textbf{Kurtosis:}      &  2.196 & \\textbf{  Cond. No.          } & 6.18e+17  \\\\\n",
       "\\bottomrule\n",
       "\\end{tabular}\n",
       "%\\caption{OLS Regression Results}\n",
       "\\end{center}\n",
       "\n",
       "Notes: \\newline\n",
       " [1] Standard Errors assume that the covariance matrix of the errors is correctly specified. \\newline\n",
       " [2] The smallest eigenvalue is 1.54e-34. This might indicate that there are \\newline\n",
       " strong multicollinearity problems or that the design matrix is singular."
      ],
      "text/plain": [
       "<class 'statsmodels.iolib.summary.Summary'>\n",
       "\"\"\"\n",
       "                            OLS Regression Results                            \n",
       "==============================================================================\n",
       "Dep. Variable:                    mpg   R-squared:                       0.990\n",
       "Model:                            OLS   Adj. R-squared:                  0.891\n",
       "Method:                 Least Squares   F-statistic:                     9.981\n",
       "Date:                Thu, 18 Sep 2025   Prob (F-statistic):              0.242\n",
       "Time:                        16:48:14   Log-Likelihood:                -9.9811\n",
       "No. Observations:                  12   AIC:                             41.96\n",
       "Df Residuals:                       1   BIC:                             47.30\n",
       "Df Model:                          10                                         \n",
       "Covariance Type:            nonrobust                                         \n",
       "==============================================================================\n",
       "                 coef    std err          t      P>|t|      [0.025      0.975]\n",
       "------------------------------------------------------------------------------\n",
       "const         17.4333      0.556     31.361      0.020      10.370      24.497\n",
       "x1          1.005e-13   1.26e-13      0.795      0.572   -1.51e-12    1.71e-12\n",
       "x2            40.7571     54.010      0.755      0.588    -645.499     727.013\n",
       "x3            -2.4635      3.021     -0.815      0.565     -40.854      35.927\n",
       "x4           -10.1581     19.484     -0.521      0.694    -257.727     237.411\n",
       "x5            14.1135     13.469      1.048      0.485    -157.022     185.249\n",
       "x6            -0.8005      3.106     -0.258      0.839     -40.266      38.665\n",
       "x7             1.5727      3.475      0.453      0.729     -42.583      45.729\n",
       "x8            32.4926     41.262      0.787      0.575    -491.795     556.780\n",
       "x9            36.1394     42.669      0.847      0.553    -506.022     578.301\n",
       "x10          -38.3551     43.625     -0.879      0.541    -592.668     515.958\n",
       "x11           11.9707     17.482      0.685      0.618    -210.157     234.098\n",
       "==============================================================================\n",
       "Omnibus:                        0.259   Durbin-Watson:                   2.354\n",
       "Prob(Omnibus):                  0.879   Jarque-Bera (JB):                0.413\n",
       "Skew:                           0.212   Prob(JB):                        0.813\n",
       "Kurtosis:                       2.196   Cond. No.                     6.18e+17\n",
       "==============================================================================\n",
       "\n",
       "Notes:\n",
       "[1] Standard Errors assume that the covariance matrix of the errors is correctly specified.\n",
       "[2] The smallest eigenvalue is 1.54e-34. This might indicate that there are\n",
       "strong multicollinearity problems or that the design matrix is singular.\n",
       "\"\"\""
      ]
     },
     "execution_count": 7,
     "metadata": {},
     "output_type": "execute_result"
    }
   ],
   "source": [
    "X_modelo2 = sm.add_constant(X_scaled)\n",
    "ols2 = sm.OLS(Ytrain, X_modelo2)\n",
    "results2 = ols2.fit()\n",
    "results2.summary()"
   ]
  },
  {
   "cell_type": "markdown",
   "id": "6bcb88ea",
   "metadata": {},
   "source": [
    "Test"
   ]
  },
  {
   "cell_type": "code",
   "execution_count": 8,
   "id": "2ae4a380",
   "metadata": {},
   "outputs": [],
   "source": [
    "X_scaled_test = scaler.transform(Xtest)"
   ]
  },
  {
   "cell_type": "code",
   "execution_count": 9,
   "id": "08d90c64",
   "metadata": {},
   "outputs": [
    {
     "data": {
      "text/plain": [
       "-54.07178520418415"
      ]
     },
     "execution_count": 9,
     "metadata": {},
     "output_type": "execute_result"
    }
   ],
   "source": [
    "y_pred = results2.predict(sm.add_constant(X_scaled_test))\n",
    "r2 = r2_score(Ytest, y_pred)\n",
    "r2"
   ]
  },
  {
   "cell_type": "markdown",
   "id": "1bd8218b",
   "metadata": {},
   "source": [
    "**4. L2, o RIDGE**"
   ]
  },
  {
   "cell_type": "markdown",
   "id": "30c14d0e",
   "metadata": {},
   "source": [
    "Datos TRAIN"
   ]
  },
  {
   "cell_type": "code",
   "execution_count": 10,
   "id": "4f5df55b",
   "metadata": {},
   "outputs": [
    {
     "name": "stdout",
     "output_type": "stream",
     "text": [
      "Coeficientes: [ 0.         -1.80358779 -1.2857849   1.01328527  1.67274528 -0.7201921\n",
      "  1.26762625  0.01863527  1.40125429 -1.20813325 -0.75672773]\n",
      "Intercepto: 17.433333333333334\n"
     ]
    }
   ],
   "source": [
    "ridge = Ridge(alpha=1.0)\n",
    "ridge.fit(X_scaled, Ytrain)\n",
    "\n",
    "y_pred_ridge = ridge.predict(X_scaled)\n",
    "\n",
    "print(\"Coeficientes:\", ridge.coef_)\n",
    "print(\"Intercepto:\", ridge.intercept_)"
   ]
  },
  {
   "cell_type": "code",
   "execution_count": 11,
   "id": "76d91079",
   "metadata": {},
   "outputs": [
    {
     "name": "stdout",
     "output_type": "stream",
     "text": [
      "R^2: 0.9386746881405903\n"
     ]
    }
   ],
   "source": [
    "r2_ridge = ridge.score(X_scaled, Ytrain)\n",
    "print(\"R^2:\", r2_ridge)"
   ]
  },
  {
   "cell_type": "markdown",
   "id": "e980b494",
   "metadata": {},
   "source": [
    "Datos TEST"
   ]
  },
  {
   "cell_type": "code",
   "execution_count": 12,
   "id": "160c22cd",
   "metadata": {},
   "outputs": [
    {
     "name": "stdout",
     "output_type": "stream",
     "text": [
      "Coeficientes: [ 0.          0.62794712  0.6879817  -1.59000081  0.47981821 -2.68884567\n",
      "  0.63051843  0.36178546  0.6206204   1.53839604 -1.64658207]\n",
      "Intercepto: 17.383328961740464\n"
     ]
    }
   ],
   "source": [
    "ridge = Ridge(alpha=1.0)\n",
    "ridge.fit(X_scaled_test, Ytest)\n",
    "\n",
    "y_pred_ridge = ridge.predict(X_scaled_test)\n",
    "\n",
    "print(\"Coeficientes:\", ridge.coef_)\n",
    "print(\"Intercepto:\", ridge.intercept_)"
   ]
  },
  {
   "cell_type": "code",
   "execution_count": 13,
   "id": "e4c8939e",
   "metadata": {},
   "outputs": [
    {
     "name": "stdout",
     "output_type": "stream",
     "text": [
      "R^2: 0.887230499280528\n"
     ]
    }
   ],
   "source": [
    "r2_ridge = ridge.score(X_scaled_test, Ytest)\n",
    "print(\"R^2:\", r2_ridge)"
   ]
  },
  {
   "cell_type": "markdown",
   "id": "223ea29a",
   "metadata": {},
   "source": [
    "**5. con 0.05 y 0.01**"
   ]
  },
  {
   "cell_type": "markdown",
   "id": "0b815ad4",
   "metadata": {},
   "source": [
    "Datos TRAIN, con 0.05"
   ]
  },
  {
   "cell_type": "code",
   "execution_count": 14,
   "id": "cd9e1cbd",
   "metadata": {},
   "outputs": [
    {
     "name": "stdout",
     "output_type": "stream",
     "text": [
      "Coeficientes: [ 0.         -1.93611161 -3.2764432   4.51052079  3.2845055   0.1917549\n",
      "  2.45710093 -0.14580801  2.2331071  -3.50306911 -1.52384854]\n",
      "Intercepto: 17.43333333333333\n"
     ]
    }
   ],
   "source": [
    "ridge2 = Ridge(alpha=0.05)\n",
    "ridge2.fit(X_scaled, Ytrain)\n",
    "\n",
    "y_pred_ridge2 = ridge2.predict(X_scaled)\n",
    "\n",
    "print(\"Coeficientes:\", ridge2.coef_)\n",
    "print(\"Intercepto:\", ridge2.intercept_)"
   ]
  },
  {
   "cell_type": "code",
   "execution_count": 15,
   "id": "bea7ef42",
   "metadata": {},
   "outputs": [
    {
     "name": "stdout",
     "output_type": "stream",
     "text": [
      "R^2: 0.9828308657277885\n"
     ]
    }
   ],
   "source": [
    "r2_ridge2 = ridge2.score(X_scaled, Ytrain)\n",
    "print(\"R^2:\", r2_ridge2)"
   ]
  },
  {
   "cell_type": "markdown",
   "id": "14509f18",
   "metadata": {},
   "source": [
    "Datos TEST"
   ]
  },
  {
   "cell_type": "code",
   "execution_count": 16,
   "id": "f457b6cf",
   "metadata": {},
   "outputs": [
    {
     "name": "stdout",
     "output_type": "stream",
     "text": [
      "Coeficientes: [ 0.          1.24975801  2.53451874 -2.2600476   0.57152369 -4.2299013\n",
      "  1.42432881  0.54193836  0.73388895  2.20021122 -1.2194225 ]\n",
      "Intercepto: 17.41929189235009\n"
     ]
    }
   ],
   "source": [
    "ridge2 = Ridge(alpha=0.05)\n",
    "ridge2.fit(X_scaled_test, Ytest)\n",
    "\n",
    "y_pred_ridge2 = ridge2.predict(X_scaled_test)\n",
    "\n",
    "print(\"Coeficientes:\", ridge2.coef_)\n",
    "print(\"Intercepto:\", ridge2.intercept_)"
   ]
  },
  {
   "cell_type": "code",
   "execution_count": 17,
   "id": "238b91da",
   "metadata": {},
   "outputs": [
    {
     "name": "stdout",
     "output_type": "stream",
     "text": [
      "R^2: 0.9012646685116987\n"
     ]
    }
   ],
   "source": [
    "r2_ridge2 = ridge2.score(X_scaled_test, Ytest)\n",
    "print(\"R^2:\", r2_ridge2)"
   ]
  },
  {
   "cell_type": "markdown",
   "id": "e3f696c0",
   "metadata": {},
   "source": [
    "Datos TRAIN, con 0.01"
   ]
  },
  {
   "cell_type": "code",
   "execution_count": 18,
   "id": "856bb65a",
   "metadata": {},
   "outputs": [
    {
     "name": "stdout",
     "output_type": "stream",
     "text": [
      "Coeficientes: [ 0.         -0.65215743 -3.64173725  4.55250211  3.79292007  0.4101178\n",
      "  2.49308912  0.84685452  3.38057447 -4.82957655 -1.30491028]\n",
      "Intercepto: 17.43333333333333\n"
     ]
    }
   ],
   "source": [
    "ridge3 = Ridge(alpha=0.01)\n",
    "ridge3.fit(X_scaled, Ytrain)\n",
    "\n",
    "y_pred_ridge3 = ridge3.predict(X_scaled)\n",
    "\n",
    "print(\"Coeficientes:\", ridge3.coef_)\n",
    "print(\"Intercepto:\", ridge3.intercept_)"
   ]
  },
  {
   "cell_type": "code",
   "execution_count": 19,
   "id": "237cc0a2",
   "metadata": {},
   "outputs": [
    {
     "name": "stdout",
     "output_type": "stream",
     "text": [
      "R^2: 0.9841895009460101\n"
     ]
    }
   ],
   "source": [
    "r2_ridge3 = ridge3.score(X_scaled, Ytrain)\n",
    "print(\"R^2:\", r2_ridge3)"
   ]
  },
  {
   "cell_type": "markdown",
   "id": "86894a62",
   "metadata": {},
   "source": [
    "Datos TEST"
   ]
  },
  {
   "cell_type": "code",
   "execution_count": 20,
   "id": "77ed0661",
   "metadata": {},
   "outputs": [
    {
     "name": "stdout",
     "output_type": "stream",
     "text": [
      "Coeficientes: [ 0.          1.24692827  2.77644533 -2.33185289  0.56265425 -4.42245744\n",
      "  1.50678084  0.55532464  0.75296246  2.21777509 -1.10734714]\n",
      "Intercepto: 17.417462273257375\n"
     ]
    }
   ],
   "source": [
    "ridge3 = Ridge(alpha=0.01)\n",
    "ridge3.fit(X_scaled_test, Ytest)\n",
    "\n",
    "y_pred_ridge3 = ridge3.predict(X_scaled_test)\n",
    "\n",
    "print(\"Coeficientes:\", ridge3.coef_)\n",
    "print(\"Intercepto:\", ridge3.intercept_)"
   ]
  },
  {
   "cell_type": "code",
   "execution_count": 21,
   "id": "366d4391",
   "metadata": {},
   "outputs": [
    {
     "name": "stdout",
     "output_type": "stream",
     "text": [
      "R^2: 0.9014244540166282\n"
     ]
    }
   ],
   "source": [
    "r2_ridge3 = ridge3.score(X_scaled_test, Ytest)\n",
    "print(\"R^2:\", r2_ridge3)"
   ]
  },
  {
   "cell_type": "markdown",
   "id": "0f591a19",
   "metadata": {},
   "source": [
    "**1.2 Repite el ejercicio anterior usando 'qsec' como salida.**"
   ]
  },
  {
   "cell_type": "code",
   "execution_count": 22,
   "id": "c2d1230c",
   "metadata": {},
   "outputs": [],
   "source": [
    "x_qsec = motor.drop(columns=[\"qsec\"])\n",
    "y_qsec = motor[\"qsec\"]"
   ]
  },
  {
   "cell_type": "markdown",
   "id": "d42417f8",
   "metadata": {},
   "source": [
    "**1.**"
   ]
  },
  {
   "cell_type": "code",
   "execution_count": 23,
   "id": "463b2d06",
   "metadata": {
    "scrolled": true
   },
   "outputs": [
    {
     "data": {
      "text/html": [
       "<table class=\"simpletable\">\n",
       "<caption>OLS Regression Results</caption>\n",
       "<tr>\n",
       "  <th>Dep. Variable:</th>          <td>qsec</td>       <th>  R-squared:         </th> <td>   0.875</td>\n",
       "</tr>\n",
       "<tr>\n",
       "  <th>Model:</th>                   <td>OLS</td>       <th>  Adj. R-squared:    </th> <td>   0.815</td>\n",
       "</tr>\n",
       "<tr>\n",
       "  <th>Method:</th>             <td>Least Squares</td>  <th>  F-statistic:       </th> <td>   14.66</td>\n",
       "</tr>\n",
       "<tr>\n",
       "  <th>Date:</th>             <td>Thu, 18 Sep 2025</td> <th>  Prob (F-statistic):</th> <td>2.44e-07</td>\n",
       "</tr>\n",
       "<tr>\n",
       "  <th>Time:</th>                 <td>16:48:15</td>     <th>  Log-Likelihood:    </th> <td> -30.242</td>\n",
       "</tr>\n",
       "<tr>\n",
       "  <th>No. Observations:</th>      <td>    32</td>      <th>  AIC:               </th> <td>   82.48</td>\n",
       "</tr>\n",
       "<tr>\n",
       "  <th>Df Residuals:</th>          <td>    21</td>      <th>  BIC:               </th> <td>   98.61</td>\n",
       "</tr>\n",
       "<tr>\n",
       "  <th>Df Model:</th>              <td>    10</td>      <th>                     </th>     <td> </td>   \n",
       "</tr>\n",
       "<tr>\n",
       "  <th>Covariance Type:</th>      <td>nonrobust</td>    <th>                     </th>     <td> </td>   \n",
       "</tr>\n",
       "</table>\n",
       "<table class=\"simpletable\">\n",
       "<tr>\n",
       "    <td></td>       <th>coef</th>     <th>std err</th>      <th>t</th>      <th>P>|t|</th>  <th>[0.025</th>    <th>0.975]</th>  \n",
       "</tr>\n",
       "<tr>\n",
       "  <th>const</th> <td>   17.7762</td> <td>    3.876</td> <td>    4.586</td> <td> 0.000</td> <td>    9.716</td> <td>   25.837</td>\n",
       "</tr>\n",
       "<tr>\n",
       "  <th>mpg</th>   <td>    0.0690</td> <td>    0.061</td> <td>    1.123</td> <td> 0.274</td> <td>   -0.059</td> <td>    0.197</td>\n",
       "</tr>\n",
       "<tr>\n",
       "  <th>cyl</th>   <td>   -0.3627</td> <td>    0.293</td> <td>   -1.239</td> <td> 0.229</td> <td>   -0.971</td> <td>    0.246</td>\n",
       "</tr>\n",
       "<tr>\n",
       "  <th>disp</th>  <td>   -0.0075</td> <td>    0.005</td> <td>   -1.505</td> <td> 0.147</td> <td>   -0.018</td> <td>    0.003</td>\n",
       "</tr>\n",
       "<tr>\n",
       "  <th>hp</th>    <td>   -0.0016</td> <td>    0.006</td> <td>   -0.242</td> <td> 0.811</td> <td>   -0.015</td> <td>    0.012</td>\n",
       "</tr>\n",
       "<tr>\n",
       "  <th>drat</th>  <td>   -0.1311</td> <td>    0.476</td> <td>   -0.275</td> <td> 0.786</td> <td>   -1.121</td> <td>    0.859</td>\n",
       "</tr>\n",
       "<tr>\n",
       "  <th>wt</th>    <td>    1.4963</td> <td>    0.500</td> <td>    2.990</td> <td> 0.007</td> <td>    0.456</td> <td>    2.537</td>\n",
       "</tr>\n",
       "<tr>\n",
       "  <th>vs</th>    <td>    0.9700</td> <td>    0.573</td> <td>    1.694</td> <td> 0.105</td> <td>   -0.221</td> <td>    2.161</td>\n",
       "</tr>\n",
       "<tr>\n",
       "  <th>am</th>    <td>   -0.9012</td> <td>    0.585</td> <td>   -1.540</td> <td> 0.139</td> <td>   -2.118</td> <td>    0.316</td>\n",
       "</tr>\n",
       "<tr>\n",
       "  <th>gear</th>  <td>   -0.2013</td> <td>    0.433</td> <td>   -0.465</td> <td> 0.647</td> <td>   -1.101</td> <td>    0.699</td>\n",
       "</tr>\n",
       "<tr>\n",
       "  <th>carb</th>  <td>   -0.2736</td> <td>    0.233</td> <td>   -1.174</td> <td> 0.254</td> <td>   -0.758</td> <td>    0.211</td>\n",
       "</tr>\n",
       "</table>\n",
       "<table class=\"simpletable\">\n",
       "<tr>\n",
       "  <th>Omnibus:</th>       <td>21.069</td> <th>  Durbin-Watson:     </th> <td>   2.573</td>\n",
       "</tr>\n",
       "<tr>\n",
       "  <th>Prob(Omnibus):</th> <td> 0.000</td> <th>  Jarque-Bera (JB):  </th> <td>  38.291</td>\n",
       "</tr>\n",
       "<tr>\n",
       "  <th>Skew:</th>          <td> 1.470</td> <th>  Prob(JB):          </th> <td>4.84e-09</td>\n",
       "</tr>\n",
       "<tr>\n",
       "  <th>Kurtosis:</th>      <td> 7.481</td> <th>  Cond. No.          </th> <td>8.77e+03</td>\n",
       "</tr>\n",
       "</table><br/><br/>Notes:<br/>[1] Standard Errors assume that the covariance matrix of the errors is correctly specified.<br/>[2] The condition number is large, 8.77e+03. This might indicate that there are<br/>strong multicollinearity or other numerical problems."
      ],
      "text/latex": [
       "\\begin{center}\n",
       "\\begin{tabular}{lclc}\n",
       "\\toprule\n",
       "\\textbf{Dep. Variable:}    &       qsec       & \\textbf{  R-squared:         } &     0.875   \\\\\n",
       "\\textbf{Model:}            &       OLS        & \\textbf{  Adj. R-squared:    } &     0.815   \\\\\n",
       "\\textbf{Method:}           &  Least Squares   & \\textbf{  F-statistic:       } &     14.66   \\\\\n",
       "\\textbf{Date:}             & Thu, 18 Sep 2025 & \\textbf{  Prob (F-statistic):} &  2.44e-07   \\\\\n",
       "\\textbf{Time:}             &     16:48:15     & \\textbf{  Log-Likelihood:    } &   -30.242   \\\\\n",
       "\\textbf{No. Observations:} &          32      & \\textbf{  AIC:               } &     82.48   \\\\\n",
       "\\textbf{Df Residuals:}     &          21      & \\textbf{  BIC:               } &     98.61   \\\\\n",
       "\\textbf{Df Model:}         &          10      & \\textbf{                     } &             \\\\\n",
       "\\textbf{Covariance Type:}  &    nonrobust     & \\textbf{                     } &             \\\\\n",
       "\\bottomrule\n",
       "\\end{tabular}\n",
       "\\begin{tabular}{lcccccc}\n",
       "               & \\textbf{coef} & \\textbf{std err} & \\textbf{t} & \\textbf{P$> |$t$|$} & \\textbf{[0.025} & \\textbf{0.975]}  \\\\\n",
       "\\midrule\n",
       "\\textbf{const} &      17.7762  &        3.876     &     4.586  &         0.000        &        9.716    &       25.837     \\\\\n",
       "\\textbf{mpg}   &       0.0690  &        0.061     &     1.123  &         0.274        &       -0.059    &        0.197     \\\\\n",
       "\\textbf{cyl}   &      -0.3627  &        0.293     &    -1.239  &         0.229        &       -0.971    &        0.246     \\\\\n",
       "\\textbf{disp}  &      -0.0075  &        0.005     &    -1.505  &         0.147        &       -0.018    &        0.003     \\\\\n",
       "\\textbf{hp}    &      -0.0016  &        0.006     &    -0.242  &         0.811        &       -0.015    &        0.012     \\\\\n",
       "\\textbf{drat}  &      -0.1311  &        0.476     &    -0.275  &         0.786        &       -1.121    &        0.859     \\\\\n",
       "\\textbf{wt}    &       1.4963  &        0.500     &     2.990  &         0.007        &        0.456    &        2.537     \\\\\n",
       "\\textbf{vs}    &       0.9700  &        0.573     &     1.694  &         0.105        &       -0.221    &        2.161     \\\\\n",
       "\\textbf{am}    &      -0.9012  &        0.585     &    -1.540  &         0.139        &       -2.118    &        0.316     \\\\\n",
       "\\textbf{gear}  &      -0.2013  &        0.433     &    -0.465  &         0.647        &       -1.101    &        0.699     \\\\\n",
       "\\textbf{carb}  &      -0.2736  &        0.233     &    -1.174  &         0.254        &       -0.758    &        0.211     \\\\\n",
       "\\bottomrule\n",
       "\\end{tabular}\n",
       "\\begin{tabular}{lclc}\n",
       "\\textbf{Omnibus:}       & 21.069 & \\textbf{  Durbin-Watson:     } &    2.573  \\\\\n",
       "\\textbf{Prob(Omnibus):} &  0.000 & \\textbf{  Jarque-Bera (JB):  } &   38.291  \\\\\n",
       "\\textbf{Skew:}          &  1.470 & \\textbf{  Prob(JB):          } & 4.84e-09  \\\\\n",
       "\\textbf{Kurtosis:}      &  7.481 & \\textbf{  Cond. No.          } & 8.77e+03  \\\\\n",
       "\\bottomrule\n",
       "\\end{tabular}\n",
       "%\\caption{OLS Regression Results}\n",
       "\\end{center}\n",
       "\n",
       "Notes: \\newline\n",
       " [1] Standard Errors assume that the covariance matrix of the errors is correctly specified. \\newline\n",
       " [2] The condition number is large, 8.77e+03. This might indicate that there are \\newline\n",
       " strong multicollinearity or other numerical problems."
      ],
      "text/plain": [
       "<class 'statsmodels.iolib.summary.Summary'>\n",
       "\"\"\"\n",
       "                            OLS Regression Results                            \n",
       "==============================================================================\n",
       "Dep. Variable:                   qsec   R-squared:                       0.875\n",
       "Model:                            OLS   Adj. R-squared:                  0.815\n",
       "Method:                 Least Squares   F-statistic:                     14.66\n",
       "Date:                Thu, 18 Sep 2025   Prob (F-statistic):           2.44e-07\n",
       "Time:                        16:48:15   Log-Likelihood:                -30.242\n",
       "No. Observations:                  32   AIC:                             82.48\n",
       "Df Residuals:                      21   BIC:                             98.61\n",
       "Df Model:                          10                                         \n",
       "Covariance Type:            nonrobust                                         \n",
       "==============================================================================\n",
       "                 coef    std err          t      P>|t|      [0.025      0.975]\n",
       "------------------------------------------------------------------------------\n",
       "const         17.7762      3.876      4.586      0.000       9.716      25.837\n",
       "mpg            0.0690      0.061      1.123      0.274      -0.059       0.197\n",
       "cyl           -0.3627      0.293     -1.239      0.229      -0.971       0.246\n",
       "disp          -0.0075      0.005     -1.505      0.147      -0.018       0.003\n",
       "hp            -0.0016      0.006     -0.242      0.811      -0.015       0.012\n",
       "drat          -0.1311      0.476     -0.275      0.786      -1.121       0.859\n",
       "wt             1.4963      0.500      2.990      0.007       0.456       2.537\n",
       "vs             0.9700      0.573      1.694      0.105      -0.221       2.161\n",
       "am            -0.9012      0.585     -1.540      0.139      -2.118       0.316\n",
       "gear          -0.2013      0.433     -0.465      0.647      -1.101       0.699\n",
       "carb          -0.2736      0.233     -1.174      0.254      -0.758       0.211\n",
       "==============================================================================\n",
       "Omnibus:                       21.069   Durbin-Watson:                   2.573\n",
       "Prob(Omnibus):                  0.000   Jarque-Bera (JB):               38.291\n",
       "Skew:                           1.470   Prob(JB):                     4.84e-09\n",
       "Kurtosis:                       7.481   Cond. No.                     8.77e+03\n",
       "==============================================================================\n",
       "\n",
       "Notes:\n",
       "[1] Standard Errors assume that the covariance matrix of the errors is correctly specified.\n",
       "[2] The condition number is large, 8.77e+03. This might indicate that there are\n",
       "strong multicollinearity or other numerical problems.\n",
       "\"\"\""
      ]
     },
     "execution_count": 23,
     "metadata": {},
     "output_type": "execute_result"
    }
   ],
   "source": [
    "x_qsec = sm.add_constant(x_qsec)\n",
    "ols_qsec = sm.OLS(y_qsec, x_qsec)\n",
    "results_qsec = ols_qsec.fit()\n",
    "results_qsec.summary()"
   ]
  },
  {
   "cell_type": "markdown",
   "id": "0d25f4a2",
   "metadata": {},
   "source": [
    "**2.**"
   ]
  },
  {
   "cell_type": "code",
   "execution_count": 24,
   "id": "e05f1156",
   "metadata": {},
   "outputs": [],
   "source": [
    "Xtrain_qsec, Xtest_qsec, Ytrain_qsec, Ytest_qsec = train_test_split(x_qsec, y_qsec, train_size = 0.4, random_state = 137)"
   ]
  },
  {
   "cell_type": "markdown",
   "id": "043976d6",
   "metadata": {},
   "source": [
    "**3.**"
   ]
  },
  {
   "cell_type": "code",
   "execution_count": 25,
   "id": "331a7383",
   "metadata": {},
   "outputs": [],
   "source": [
    "scaler_qsec = StandardScaler().fit(Xtrain_qsec)\n",
    "X_scaled_qsec = scaler_qsec.transform(Xtrain_qsec)"
   ]
  },
  {
   "cell_type": "code",
   "execution_count": 26,
   "id": "cad06745",
   "metadata": {
    "scrolled": true
   },
   "outputs": [
    {
     "name": "stderr",
     "output_type": "stream",
     "text": [
      "/Users/juliahernandez/anaconda3/lib/python3.11/site-packages/scipy/stats/_stats_py.py:1736: UserWarning: kurtosistest only valid for n>=20 ... continuing anyway, n=12\n",
      "  warnings.warn(\"kurtosistest only valid for n>=20 ... continuing \"\n"
     ]
    },
    {
     "data": {
      "text/html": [
       "<table class=\"simpletable\">\n",
       "<caption>OLS Regression Results</caption>\n",
       "<tr>\n",
       "  <th>Dep. Variable:</th>          <td>qsec</td>       <th>  R-squared:         </th> <td>   0.979</td>\n",
       "</tr>\n",
       "<tr>\n",
       "  <th>Model:</th>                   <td>OLS</td>       <th>  Adj. R-squared:    </th> <td>   0.766</td>\n",
       "</tr>\n",
       "<tr>\n",
       "  <th>Method:</th>             <td>Least Squares</td>  <th>  F-statistic:       </th> <td>   4.609</td>\n",
       "</tr>\n",
       "<tr>\n",
       "  <th>Date:</th>             <td>Thu, 18 Sep 2025</td> <th>  Prob (F-statistic):</th>  <td> 0.349</td> \n",
       "</tr>\n",
       "<tr>\n",
       "  <th>Time:</th>                 <td>16:48:15</td>     <th>  Log-Likelihood:    </th> <td>-0.25847</td>\n",
       "</tr>\n",
       "<tr>\n",
       "  <th>No. Observations:</th>      <td>    12</td>      <th>  AIC:               </th> <td>   22.52</td>\n",
       "</tr>\n",
       "<tr>\n",
       "  <th>Df Residuals:</th>          <td>     1</td>      <th>  BIC:               </th> <td>   27.85</td>\n",
       "</tr>\n",
       "<tr>\n",
       "  <th>Df Model:</th>              <td>    10</td>      <th>                     </th>     <td> </td>   \n",
       "</tr>\n",
       "<tr>\n",
       "  <th>Covariance Type:</th>      <td>nonrobust</td>    <th>                     </th>     <td> </td>   \n",
       "</tr>\n",
       "</table>\n",
       "<table class=\"simpletable\">\n",
       "<tr>\n",
       "    <td></td>       <th>coef</th>     <th>std err</th>      <th>t</th>      <th>P>|t|</th>  <th>[0.025</th>    <th>0.975]</th>  \n",
       "</tr>\n",
       "<tr>\n",
       "  <th>const</th> <td>   17.3733</td> <td>    0.247</td> <td>   70.269</td> <td> 0.009</td> <td>   14.232</td> <td>   20.515</td>\n",
       "</tr>\n",
       "<tr>\n",
       "  <th>x1</th>    <td> 6.921e-15</td> <td> 4.79e-13</td> <td>    0.014</td> <td> 0.991</td> <td>-6.09e-12</td> <td>  6.1e-12</td>\n",
       "</tr>\n",
       "<tr>\n",
       "  <th>x2</th>    <td>    1.0235</td> <td>    2.262</td> <td>    0.453</td> <td> 0.729</td> <td>  -27.713</td> <td>   29.760</td>\n",
       "</tr>\n",
       "<tr>\n",
       "  <th>x3</th>    <td>   -0.3081</td> <td>   30.092</td> <td>   -0.010</td> <td> 0.993</td> <td> -382.663</td> <td>  382.047</td>\n",
       "</tr>\n",
       "<tr>\n",
       "  <th>x4</th>    <td>    0.2789</td> <td>    1.711</td> <td>    0.163</td> <td> 0.897</td> <td>  -21.465</td> <td>   22.023</td>\n",
       "</tr>\n",
       "<tr>\n",
       "  <th>x5</th>    <td>   -1.0127</td> <td>    9.720</td> <td>   -0.104</td> <td> 0.934</td> <td> -124.519</td> <td>  122.494</td>\n",
       "</tr>\n",
       "<tr>\n",
       "  <th>x6</th>    <td>   -1.0356</td> <td>    8.615</td> <td>   -0.120</td> <td> 0.924</td> <td> -110.497</td> <td>  108.426</td>\n",
       "</tr>\n",
       "<tr>\n",
       "  <th>x7</th>    <td>    0.5976</td> <td>    1.295</td> <td>    0.461</td> <td> 0.725</td> <td>  -15.861</td> <td>   17.057</td>\n",
       "</tr>\n",
       "<tr>\n",
       "  <th>x8</th>    <td>    0.2129</td> <td>   23.358</td> <td>    0.009</td> <td> 0.994</td> <td> -296.578</td> <td>  297.004</td>\n",
       "</tr>\n",
       "<tr>\n",
       "  <th>x9</th>    <td>   -0.3877</td> <td>   24.867</td> <td>   -0.016</td> <td> 0.990</td> <td> -316.349</td> <td>  315.574</td>\n",
       "</tr>\n",
       "<tr>\n",
       "  <th>x10</th>   <td>    0.6755</td> <td>   25.827</td> <td>    0.026</td> <td> 0.983</td> <td> -327.485</td> <td>  328.836</td>\n",
       "</tr>\n",
       "<tr>\n",
       "  <th>x11</th>   <td>   -0.1562</td> <td>    9.422</td> <td>   -0.017</td> <td> 0.989</td> <td> -119.876</td> <td>  119.563</td>\n",
       "</tr>\n",
       "</table>\n",
       "<table class=\"simpletable\">\n",
       "<tr>\n",
       "  <th>Omnibus:</th>       <td>12.359</td> <th>  Durbin-Watson:     </th> <td>   2.150</td>\n",
       "</tr>\n",
       "<tr>\n",
       "  <th>Prob(Omnibus):</th> <td> 0.002</td> <th>  Jarque-Bera (JB):  </th> <td>   7.063</td>\n",
       "</tr>\n",
       "<tr>\n",
       "  <th>Skew:</th>          <td> 1.532</td> <th>  Prob(JB):          </th> <td>  0.0293</td>\n",
       "</tr>\n",
       "<tr>\n",
       "  <th>Kurtosis:</th>      <td> 5.178</td> <th>  Cond. No.          </th> <td>4.91e+16</td>\n",
       "</tr>\n",
       "</table><br/><br/>Notes:<br/>[1] Standard Errors assume that the covariance matrix of the errors is correctly specified.<br/>[2] The smallest eigenvalue is 2.73e-32. This might indicate that there are<br/>strong multicollinearity problems or that the design matrix is singular."
      ],
      "text/latex": [
       "\\begin{center}\n",
       "\\begin{tabular}{lclc}\n",
       "\\toprule\n",
       "\\textbf{Dep. Variable:}    &       qsec       & \\textbf{  R-squared:         } &     0.979   \\\\\n",
       "\\textbf{Model:}            &       OLS        & \\textbf{  Adj. R-squared:    } &     0.766   \\\\\n",
       "\\textbf{Method:}           &  Least Squares   & \\textbf{  F-statistic:       } &     4.609   \\\\\n",
       "\\textbf{Date:}             & Thu, 18 Sep 2025 & \\textbf{  Prob (F-statistic):} &    0.349    \\\\\n",
       "\\textbf{Time:}             &     16:48:15     & \\textbf{  Log-Likelihood:    } &  -0.25847   \\\\\n",
       "\\textbf{No. Observations:} &          12      & \\textbf{  AIC:               } &     22.52   \\\\\n",
       "\\textbf{Df Residuals:}     &           1      & \\textbf{  BIC:               } &     27.85   \\\\\n",
       "\\textbf{Df Model:}         &          10      & \\textbf{                     } &             \\\\\n",
       "\\textbf{Covariance Type:}  &    nonrobust     & \\textbf{                     } &             \\\\\n",
       "\\bottomrule\n",
       "\\end{tabular}\n",
       "\\begin{tabular}{lcccccc}\n",
       "               & \\textbf{coef} & \\textbf{std err} & \\textbf{t} & \\textbf{P$> |$t$|$} & \\textbf{[0.025} & \\textbf{0.975]}  \\\\\n",
       "\\midrule\n",
       "\\textbf{const} &      17.3733  &        0.247     &    70.269  &         0.009        &       14.232    &       20.515     \\\\\n",
       "\\textbf{x1}    &    6.921e-15  &     4.79e-13     &     0.014  &         0.991        &    -6.09e-12    &      6.1e-12     \\\\\n",
       "\\textbf{x2}    &       1.0235  &        2.262     &     0.453  &         0.729        &      -27.713    &       29.760     \\\\\n",
       "\\textbf{x3}    &      -0.3081  &       30.092     &    -0.010  &         0.993        &     -382.663    &      382.047     \\\\\n",
       "\\textbf{x4}    &       0.2789  &        1.711     &     0.163  &         0.897        &      -21.465    &       22.023     \\\\\n",
       "\\textbf{x5}    &      -1.0127  &        9.720     &    -0.104  &         0.934        &     -124.519    &      122.494     \\\\\n",
       "\\textbf{x6}    &      -1.0356  &        8.615     &    -0.120  &         0.924        &     -110.497    &      108.426     \\\\\n",
       "\\textbf{x7}    &       0.5976  &        1.295     &     0.461  &         0.725        &      -15.861    &       17.057     \\\\\n",
       "\\textbf{x8}    &       0.2129  &       23.358     &     0.009  &         0.994        &     -296.578    &      297.004     \\\\\n",
       "\\textbf{x9}    &      -0.3877  &       24.867     &    -0.016  &         0.990        &     -316.349    &      315.574     \\\\\n",
       "\\textbf{x10}   &       0.6755  &       25.827     &     0.026  &         0.983        &     -327.485    &      328.836     \\\\\n",
       "\\textbf{x11}   &      -0.1562  &        9.422     &    -0.017  &         0.989        &     -119.876    &      119.563     \\\\\n",
       "\\bottomrule\n",
       "\\end{tabular}\n",
       "\\begin{tabular}{lclc}\n",
       "\\textbf{Omnibus:}       & 12.359 & \\textbf{  Durbin-Watson:     } &    2.150  \\\\\n",
       "\\textbf{Prob(Omnibus):} &  0.002 & \\textbf{  Jarque-Bera (JB):  } &    7.063  \\\\\n",
       "\\textbf{Skew:}          &  1.532 & \\textbf{  Prob(JB):          } &   0.0293  \\\\\n",
       "\\textbf{Kurtosis:}      &  5.178 & \\textbf{  Cond. No.          } & 4.91e+16  \\\\\n",
       "\\bottomrule\n",
       "\\end{tabular}\n",
       "%\\caption{OLS Regression Results}\n",
       "\\end{center}\n",
       "\n",
       "Notes: \\newline\n",
       " [1] Standard Errors assume that the covariance matrix of the errors is correctly specified. \\newline\n",
       " [2] The smallest eigenvalue is 2.73e-32. This might indicate that there are \\newline\n",
       " strong multicollinearity problems or that the design matrix is singular."
      ],
      "text/plain": [
       "<class 'statsmodels.iolib.summary.Summary'>\n",
       "\"\"\"\n",
       "                            OLS Regression Results                            \n",
       "==============================================================================\n",
       "Dep. Variable:                   qsec   R-squared:                       0.979\n",
       "Model:                            OLS   Adj. R-squared:                  0.766\n",
       "Method:                 Least Squares   F-statistic:                     4.609\n",
       "Date:                Thu, 18 Sep 2025   Prob (F-statistic):              0.349\n",
       "Time:                        16:48:15   Log-Likelihood:               -0.25847\n",
       "No. Observations:                  12   AIC:                             22.52\n",
       "Df Residuals:                       1   BIC:                             27.85\n",
       "Df Model:                          10                                         \n",
       "Covariance Type:            nonrobust                                         \n",
       "==============================================================================\n",
       "                 coef    std err          t      P>|t|      [0.025      0.975]\n",
       "------------------------------------------------------------------------------\n",
       "const         17.3733      0.247     70.269      0.009      14.232      20.515\n",
       "x1          6.921e-15   4.79e-13      0.014      0.991   -6.09e-12     6.1e-12\n",
       "x2             1.0235      2.262      0.453      0.729     -27.713      29.760\n",
       "x3            -0.3081     30.092     -0.010      0.993    -382.663     382.047\n",
       "x4             0.2789      1.711      0.163      0.897     -21.465      22.023\n",
       "x5            -1.0127      9.720     -0.104      0.934    -124.519     122.494\n",
       "x6            -1.0356      8.615     -0.120      0.924    -110.497     108.426\n",
       "x7             0.5976      1.295      0.461      0.725     -15.861      17.057\n",
       "x8             0.2129     23.358      0.009      0.994    -296.578     297.004\n",
       "x9            -0.3877     24.867     -0.016      0.990    -316.349     315.574\n",
       "x10            0.6755     25.827      0.026      0.983    -327.485     328.836\n",
       "x11           -0.1562      9.422     -0.017      0.989    -119.876     119.563\n",
       "==============================================================================\n",
       "Omnibus:                       12.359   Durbin-Watson:                   2.150\n",
       "Prob(Omnibus):                  0.002   Jarque-Bera (JB):                7.063\n",
       "Skew:                           1.532   Prob(JB):                       0.0293\n",
       "Kurtosis:                       5.178   Cond. No.                     4.91e+16\n",
       "==============================================================================\n",
       "\n",
       "Notes:\n",
       "[1] Standard Errors assume that the covariance matrix of the errors is correctly specified.\n",
       "[2] The smallest eigenvalue is 2.73e-32. This might indicate that there are\n",
       "strong multicollinearity problems or that the design matrix is singular.\n",
       "\"\"\""
      ]
     },
     "execution_count": 26,
     "metadata": {},
     "output_type": "execute_result"
    }
   ],
   "source": [
    "X_modelo2_qsec = sm.add_constant(X_scaled_qsec)\n",
    "ols2_qsec = sm.OLS(Ytrain_qsec, X_modelo2_qsec)\n",
    "results2_qsec = ols2_qsec.fit()\n",
    "results2_qsec.summary()"
   ]
  },
  {
   "cell_type": "code",
   "execution_count": 27,
   "id": "aabb402e",
   "metadata": {},
   "outputs": [],
   "source": [
    "X_scaled_test_qsec = scaler_qsec.transform(Xtest_qsec)"
   ]
  },
  {
   "cell_type": "code",
   "execution_count": 28,
   "id": "52883229",
   "metadata": {},
   "outputs": [
    {
     "data": {
      "text/plain": [
       "0.37610389620006757"
      ]
     },
     "execution_count": 28,
     "metadata": {},
     "output_type": "execute_result"
    }
   ],
   "source": [
    "y_pred_qsec = results2_qsec.predict(sm.add_constant(X_scaled_test_qsec))\n",
    "r2_qsec = r2_score(Ytest_qsec, y_pred_qsec)\n",
    "r2_qsec"
   ]
  },
  {
   "cell_type": "markdown",
   "id": "5bb3e45d",
   "metadata": {},
   "source": [
    "**4.**"
   ]
  },
  {
   "cell_type": "markdown",
   "id": "9c584068",
   "metadata": {},
   "source": [
    "TRAIN"
   ]
  },
  {
   "cell_type": "code",
   "execution_count": 29,
   "id": "6600fd7f",
   "metadata": {},
   "outputs": [
    {
     "name": "stdout",
     "output_type": "stream",
     "text": [
      "Coeficientes: [ 0.          0.32243014 -0.423128   -0.09911909 -0.48174143 -0.47038265\n",
      "  0.50302442  0.45486151 -0.00142143 -0.19343426 -0.27205226]\n",
      "Intercepto: 17.37333333333333\n"
     ]
    }
   ],
   "source": [
    "ridge_qsec = Ridge(alpha=1.0)\n",
    "ridge_qsec.fit(X_scaled_qsec, Ytrain_qsec)\n",
    "\n",
    "y_pred_ridge_qsec = ridge_qsec.predict(X_scaled_qsec)\n",
    "\n",
    "print(\"Coeficientes:\", ridge_qsec.coef_)\n",
    "print(\"Intercepto:\", ridge_qsec.intercept_)"
   ]
  },
  {
   "cell_type": "code",
   "execution_count": 30,
   "id": "d8a2f38c",
   "metadata": {},
   "outputs": [
    {
     "name": "stdout",
     "output_type": "stream",
     "text": [
      "R^2: 0.9671802657602482\n"
     ]
    }
   ],
   "source": [
    "r2_ridge_qsec = ridge_qsec.score(X_scaled_qsec, Ytrain_qsec)\n",
    "print(\"R^2:\", r2_ridge_qsec)"
   ]
  },
  {
   "cell_type": "markdown",
   "id": "3e601054",
   "metadata": {},
   "source": [
    "TEST"
   ]
  },
  {
   "cell_type": "code",
   "execution_count": 31,
   "id": "1bc22341",
   "metadata": {},
   "outputs": [
    {
     "name": "stdout",
     "output_type": "stream",
     "text": [
      "Coeficientes: [ 0.          0.23887246 -0.62032655 -0.42494672 -0.58382257 -0.00322778\n",
      "  0.99668557  0.41839064 -0.64854303 -0.25409497 -0.20595853]\n",
      "Intercepto: 16.97655668243855\n"
     ]
    }
   ],
   "source": [
    "ridge_qsec = Ridge(alpha=1.0)\n",
    "ridge_qsec.fit(X_scaled_test_qsec, Ytest_qsec)\n",
    "\n",
    "y_pred_ridge_qsec = ridge_qsec.predict(X_scaled_test_qsec)\n",
    "\n",
    "print(\"Coeficientes:\", ridge_qsec.coef_)\n",
    "print(\"Intercepto:\", ridge_qsec.intercept_)"
   ]
  },
  {
   "cell_type": "code",
   "execution_count": 32,
   "id": "bfe3cf7e",
   "metadata": {},
   "outputs": [
    {
     "name": "stdout",
     "output_type": "stream",
     "text": [
      "R^2: 0.8669489775816193\n"
     ]
    }
   ],
   "source": [
    "r2_ridge_qsec = ridge_qsec.score(X_scaled_test_qsec, Ytest_qsec)\n",
    "print(\"R^2:\", r2_ridge_qsec)"
   ]
  },
  {
   "cell_type": "markdown",
   "id": "5f4c7169",
   "metadata": {},
   "source": [
    "TRAIN, con 0.05"
   ]
  },
  {
   "cell_type": "code",
   "execution_count": 33,
   "id": "28b11f3d",
   "metadata": {},
   "outputs": [
    {
     "name": "stdout",
     "output_type": "stream",
     "text": [
      "Coeficientes: [ 0.          0.72264822 -0.16341301  0.02886704 -0.82060213 -0.78062868\n",
      "  0.68281908  0.47733881  0.00480885  0.16062277 -0.19944229]\n",
      "Intercepto: 17.37333333333333\n"
     ]
    }
   ],
   "source": [
    "ridge2_qsec = Ridge(alpha=0.05)\n",
    "ridge2_qsec.fit(X_scaled_qsec, Ytrain_qsec)\n",
    "\n",
    "y_pred_ridge2_qsec = ridge2_qsec.predict(X_scaled_qsec)\n",
    "\n",
    "print(\"Coeficientes:\", ridge2_qsec.coef_)\n",
    "print(\"Intercepto:\", ridge2_qsec.intercept_)"
   ]
  },
  {
   "cell_type": "code",
   "execution_count": 34,
   "id": "600cd9ef",
   "metadata": {},
   "outputs": [
    {
     "name": "stdout",
     "output_type": "stream",
     "text": [
      "R^2: 0.9780489351814745\n"
     ]
    }
   ],
   "source": [
    "r2_ridge2_qsec = ridge2_qsec.score(X_scaled_qsec, Ytrain_qsec)\n",
    "print(\"R^2:\", r2_ridge2_qsec)"
   ]
  },
  {
   "cell_type": "markdown",
   "id": "835f32c9",
   "metadata": {},
   "source": [
    "TEST"
   ]
  },
  {
   "cell_type": "code",
   "execution_count": 35,
   "id": "7ea0e9e2",
   "metadata": {},
   "outputs": [
    {
     "name": "stdout",
     "output_type": "stream",
     "text": [
      "Coeficientes: [ 0.          0.53997486 -0.51473084 -1.07414826 -0.48157692  0.00350793\n",
      "  1.67769924  0.26681069 -0.65081517 -0.31611    -0.376296  ]\n",
      "Intercepto: 16.990105603448704\n"
     ]
    }
   ],
   "source": [
    "ridge2_qsec = Ridge(alpha=0.05)\n",
    "ridge2_qsec.fit(X_scaled_test_qsec, Ytest_qsec)\n",
    "\n",
    "y_pred_ridge2_qsec = ridge2_qsec.predict(X_scaled_test_qsec)\n",
    "\n",
    "print(\"Coeficientes:\", ridge2_qsec.coef_)\n",
    "print(\"Intercepto:\", ridge2_qsec.intercept_)"
   ]
  },
  {
   "cell_type": "code",
   "execution_count": 36,
   "id": "a7a4664d",
   "metadata": {},
   "outputs": [
    {
     "name": "stdout",
     "output_type": "stream",
     "text": [
      "R^2: 0.883375800821244\n"
     ]
    }
   ],
   "source": [
    "r2_ridge2_qsec = ridge2_qsec.score(X_scaled_test_qsec, Ytest_qsec)\n",
    "print(\"R^2:\", r2_ridge2_qsec)"
   ]
  },
  {
   "cell_type": "markdown",
   "id": "c4c34ae1",
   "metadata": {},
   "source": [
    "**2.1** Realiza una regresión tomando 'mpg' como salida y eliminando la columna 'model'. Crea columnas dummies para los factores 'cyl', 'gear' y 'carb'.\n",
    "\n",
    "1. Calcula el R2 e interpreta los signos de los betas.\n",
    "2. Realiza un train-test-split donde se use el 40% de los datos para entrenar. \n",
    "3. Calcula el R2 de entrenamiento y de prueba."
   ]
  },
  {
   "cell_type": "markdown",
   "id": "2e4e86b4",
   "metadata": {},
   "source": [
    "**1.**"
   ]
  },
  {
   "cell_type": "code",
   "execution_count": 37,
   "id": "8be1ed71",
   "metadata": {},
   "outputs": [
    {
     "data": {
      "text/html": [
       "<div>\n",
       "<style scoped>\n",
       "    .dataframe tbody tr th:only-of-type {\n",
       "        vertical-align: middle;\n",
       "    }\n",
       "\n",
       "    .dataframe tbody tr th {\n",
       "        vertical-align: top;\n",
       "    }\n",
       "\n",
       "    .dataframe thead th {\n",
       "        text-align: right;\n",
       "    }\n",
       "</style>\n",
       "<table border=\"1\" class=\"dataframe\">\n",
       "  <thead>\n",
       "    <tr style=\"text-align: right;\">\n",
       "      <th></th>\n",
       "      <th>mpg</th>\n",
       "      <th>disp</th>\n",
       "      <th>hp</th>\n",
       "      <th>drat</th>\n",
       "      <th>wt</th>\n",
       "      <th>qsec</th>\n",
       "      <th>vs</th>\n",
       "      <th>am</th>\n",
       "      <th>cyl_6</th>\n",
       "      <th>cyl_8</th>\n",
       "      <th>gear_4</th>\n",
       "      <th>gear_5</th>\n",
       "      <th>carb_2</th>\n",
       "      <th>carb_3</th>\n",
       "      <th>carb_4</th>\n",
       "      <th>carb_6</th>\n",
       "      <th>carb_8</th>\n",
       "    </tr>\n",
       "  </thead>\n",
       "  <tbody>\n",
       "    <tr>\n",
       "      <th>0</th>\n",
       "      <td>21.0</td>\n",
       "      <td>160.0</td>\n",
       "      <td>110</td>\n",
       "      <td>3.90</td>\n",
       "      <td>2.620</td>\n",
       "      <td>16.46</td>\n",
       "      <td>0</td>\n",
       "      <td>1</td>\n",
       "      <td>1</td>\n",
       "      <td>0</td>\n",
       "      <td>1</td>\n",
       "      <td>0</td>\n",
       "      <td>0</td>\n",
       "      <td>0</td>\n",
       "      <td>1</td>\n",
       "      <td>0</td>\n",
       "      <td>0</td>\n",
       "    </tr>\n",
       "    <tr>\n",
       "      <th>1</th>\n",
       "      <td>21.0</td>\n",
       "      <td>160.0</td>\n",
       "      <td>110</td>\n",
       "      <td>3.90</td>\n",
       "      <td>2.875</td>\n",
       "      <td>17.02</td>\n",
       "      <td>0</td>\n",
       "      <td>1</td>\n",
       "      <td>1</td>\n",
       "      <td>0</td>\n",
       "      <td>1</td>\n",
       "      <td>0</td>\n",
       "      <td>0</td>\n",
       "      <td>0</td>\n",
       "      <td>1</td>\n",
       "      <td>0</td>\n",
       "      <td>0</td>\n",
       "    </tr>\n",
       "    <tr>\n",
       "      <th>2</th>\n",
       "      <td>22.8</td>\n",
       "      <td>108.0</td>\n",
       "      <td>93</td>\n",
       "      <td>3.85</td>\n",
       "      <td>2.320</td>\n",
       "      <td>18.61</td>\n",
       "      <td>1</td>\n",
       "      <td>1</td>\n",
       "      <td>0</td>\n",
       "      <td>0</td>\n",
       "      <td>1</td>\n",
       "      <td>0</td>\n",
       "      <td>0</td>\n",
       "      <td>0</td>\n",
       "      <td>0</td>\n",
       "      <td>0</td>\n",
       "      <td>0</td>\n",
       "    </tr>\n",
       "    <tr>\n",
       "      <th>3</th>\n",
       "      <td>21.4</td>\n",
       "      <td>258.0</td>\n",
       "      <td>110</td>\n",
       "      <td>3.08</td>\n",
       "      <td>3.215</td>\n",
       "      <td>19.44</td>\n",
       "      <td>1</td>\n",
       "      <td>0</td>\n",
       "      <td>1</td>\n",
       "      <td>0</td>\n",
       "      <td>0</td>\n",
       "      <td>0</td>\n",
       "      <td>0</td>\n",
       "      <td>0</td>\n",
       "      <td>0</td>\n",
       "      <td>0</td>\n",
       "      <td>0</td>\n",
       "    </tr>\n",
       "    <tr>\n",
       "      <th>4</th>\n",
       "      <td>18.7</td>\n",
       "      <td>360.0</td>\n",
       "      <td>175</td>\n",
       "      <td>3.15</td>\n",
       "      <td>3.440</td>\n",
       "      <td>17.02</td>\n",
       "      <td>0</td>\n",
       "      <td>0</td>\n",
       "      <td>0</td>\n",
       "      <td>1</td>\n",
       "      <td>0</td>\n",
       "      <td>0</td>\n",
       "      <td>1</td>\n",
       "      <td>0</td>\n",
       "      <td>0</td>\n",
       "      <td>0</td>\n",
       "      <td>0</td>\n",
       "    </tr>\n",
       "  </tbody>\n",
       "</table>\n",
       "</div>"
      ],
      "text/plain": [
       "    mpg   disp   hp  drat     wt   qsec  vs  am  cyl_6  cyl_8  gear_4  gear_5  \\\n",
       "0  21.0  160.0  110  3.90  2.620  16.46   0   1      1      0       1       0   \n",
       "1  21.0  160.0  110  3.90  2.875  17.02   0   1      1      0       1       0   \n",
       "2  22.8  108.0   93  3.85  2.320  18.61   1   1      0      0       1       0   \n",
       "3  21.4  258.0  110  3.08  3.215  19.44   1   0      1      0       0       0   \n",
       "4  18.7  360.0  175  3.15  3.440  17.02   0   0      0      1       0       0   \n",
       "\n",
       "   carb_2  carb_3  carb_4  carb_6  carb_8  \n",
       "0       0       0       1       0       0  \n",
       "1       0       0       1       0       0  \n",
       "2       0       0       0       0       0  \n",
       "3       0       0       0       0       0  \n",
       "4       1       0       0       0       0  "
      ]
     },
     "execution_count": 37,
     "metadata": {},
     "output_type": "execute_result"
    }
   ],
   "source": [
    "motor_dummies = pd.get_dummies(motor, columns = ['cyl', 'gear', 'carb'],drop_first = True)\n",
    "motor_dummies.dropna()\n",
    "motor_dummies.drop_duplicates()\n",
    "motor_dummies.head()"
   ]
  },
  {
   "cell_type": "code",
   "execution_count": 38,
   "id": "b552fb09",
   "metadata": {},
   "outputs": [
    {
     "data": {
      "text/html": [
       "<div>\n",
       "<style scoped>\n",
       "    .dataframe tbody tr th:only-of-type {\n",
       "        vertical-align: middle;\n",
       "    }\n",
       "\n",
       "    .dataframe tbody tr th {\n",
       "        vertical-align: top;\n",
       "    }\n",
       "\n",
       "    .dataframe thead th {\n",
       "        text-align: right;\n",
       "    }\n",
       "</style>\n",
       "<table border=\"1\" class=\"dataframe\">\n",
       "  <thead>\n",
       "    <tr style=\"text-align: right;\">\n",
       "      <th></th>\n",
       "      <th>mpg</th>\n",
       "      <th>disp</th>\n",
       "      <th>hp</th>\n",
       "      <th>drat</th>\n",
       "      <th>wt</th>\n",
       "      <th>qsec</th>\n",
       "      <th>vs</th>\n",
       "      <th>am</th>\n",
       "      <th>cyl_6</th>\n",
       "      <th>cyl_8</th>\n",
       "      <th>gear_4</th>\n",
       "      <th>gear_5</th>\n",
       "      <th>carb_2</th>\n",
       "      <th>carb_3</th>\n",
       "      <th>carb_4</th>\n",
       "      <th>carb_6</th>\n",
       "      <th>carb_8</th>\n",
       "    </tr>\n",
       "  </thead>\n",
       "  <tbody>\n",
       "    <tr>\n",
       "      <th>0</th>\n",
       "      <td>21.0</td>\n",
       "      <td>160.0</td>\n",
       "      <td>110</td>\n",
       "      <td>3.90</td>\n",
       "      <td>2.620</td>\n",
       "      <td>16.46</td>\n",
       "      <td>0</td>\n",
       "      <td>1</td>\n",
       "      <td>1</td>\n",
       "      <td>-1</td>\n",
       "      <td>1</td>\n",
       "      <td>-1</td>\n",
       "      <td>-1</td>\n",
       "      <td>-1</td>\n",
       "      <td>1</td>\n",
       "      <td>-1</td>\n",
       "      <td>-1</td>\n",
       "    </tr>\n",
       "    <tr>\n",
       "      <th>1</th>\n",
       "      <td>21.0</td>\n",
       "      <td>160.0</td>\n",
       "      <td>110</td>\n",
       "      <td>3.90</td>\n",
       "      <td>2.875</td>\n",
       "      <td>17.02</td>\n",
       "      <td>0</td>\n",
       "      <td>1</td>\n",
       "      <td>1</td>\n",
       "      <td>-1</td>\n",
       "      <td>1</td>\n",
       "      <td>-1</td>\n",
       "      <td>-1</td>\n",
       "      <td>-1</td>\n",
       "      <td>1</td>\n",
       "      <td>-1</td>\n",
       "      <td>-1</td>\n",
       "    </tr>\n",
       "    <tr>\n",
       "      <th>2</th>\n",
       "      <td>22.8</td>\n",
       "      <td>108.0</td>\n",
       "      <td>93</td>\n",
       "      <td>3.85</td>\n",
       "      <td>2.320</td>\n",
       "      <td>18.61</td>\n",
       "      <td>1</td>\n",
       "      <td>1</td>\n",
       "      <td>-1</td>\n",
       "      <td>-1</td>\n",
       "      <td>1</td>\n",
       "      <td>-1</td>\n",
       "      <td>-1</td>\n",
       "      <td>-1</td>\n",
       "      <td>-1</td>\n",
       "      <td>-1</td>\n",
       "      <td>-1</td>\n",
       "    </tr>\n",
       "    <tr>\n",
       "      <th>3</th>\n",
       "      <td>21.4</td>\n",
       "      <td>258.0</td>\n",
       "      <td>110</td>\n",
       "      <td>3.08</td>\n",
       "      <td>3.215</td>\n",
       "      <td>19.44</td>\n",
       "      <td>1</td>\n",
       "      <td>0</td>\n",
       "      <td>1</td>\n",
       "      <td>-1</td>\n",
       "      <td>-1</td>\n",
       "      <td>-1</td>\n",
       "      <td>-1</td>\n",
       "      <td>-1</td>\n",
       "      <td>-1</td>\n",
       "      <td>-1</td>\n",
       "      <td>-1</td>\n",
       "    </tr>\n",
       "    <tr>\n",
       "      <th>4</th>\n",
       "      <td>18.7</td>\n",
       "      <td>360.0</td>\n",
       "      <td>175</td>\n",
       "      <td>3.15</td>\n",
       "      <td>3.440</td>\n",
       "      <td>17.02</td>\n",
       "      <td>0</td>\n",
       "      <td>0</td>\n",
       "      <td>-1</td>\n",
       "      <td>1</td>\n",
       "      <td>-1</td>\n",
       "      <td>-1</td>\n",
       "      <td>1</td>\n",
       "      <td>-1</td>\n",
       "      <td>-1</td>\n",
       "      <td>-1</td>\n",
       "      <td>-1</td>\n",
       "    </tr>\n",
       "  </tbody>\n",
       "</table>\n",
       "</div>"
      ],
      "text/plain": [
       "    mpg   disp   hp  drat     wt   qsec  vs  am  cyl_6  cyl_8  gear_4  gear_5  \\\n",
       "0  21.0  160.0  110  3.90  2.620  16.46   0   1      1     -1       1      -1   \n",
       "1  21.0  160.0  110  3.90  2.875  17.02   0   1      1     -1       1      -1   \n",
       "2  22.8  108.0   93  3.85  2.320  18.61   1   1     -1     -1       1      -1   \n",
       "3  21.4  258.0  110  3.08  3.215  19.44   1   0      1     -1      -1      -1   \n",
       "4  18.7  360.0  175  3.15  3.440  17.02   0   0     -1      1      -1      -1   \n",
       "\n",
       "   carb_2  carb_3  carb_4  carb_6  carb_8  \n",
       "0      -1      -1       1      -1      -1  \n",
       "1      -1      -1       1      -1      -1  \n",
       "2      -1      -1      -1      -1      -1  \n",
       "3      -1      -1      -1      -1      -1  \n",
       "4       1      -1      -1      -1      -1  "
      ]
     },
     "execution_count": 38,
     "metadata": {},
     "output_type": "execute_result"
    }
   ],
   "source": [
    "import pandas as pd\n",
    "import numpy as np\n",
    "\n",
    "# 1. Identificar las columnas dummy\n",
    "# Esto es para que el cambio de 0 a -1 solo aplique a las columnas creadas.\n",
    "columnas_a_cambiar = [col for col in motor_dummies.columns if col.startswith(('cyl', 'gear', 'carb'))]\n",
    "\n",
    "# 2. Reemplazar los 0s por -1 en las columnas dummy\n",
    "# np.where(condición, valor_si_verdadero, valor_si_falso)\n",
    "for col in columnas_a_cambiar:\n",
    "    motor_dummies[col] = np.where(motor_dummies[col] == 0, -1, motor_dummies[col])\n",
    "    \n",
    "motor_dummies.head()"
   ]
  },
  {
   "cell_type": "code",
   "execution_count": 39,
   "id": "74b023ea",
   "metadata": {},
   "outputs": [],
   "source": [
    "x_dum = motor_dummies.drop(columns=[\"mpg\"])\n",
    "y_dum = motor_dummies['mpg']"
   ]
  },
  {
   "cell_type": "code",
   "execution_count": 40,
   "id": "e99ef786",
   "metadata": {},
   "outputs": [],
   "source": [
    "x_dummies = pd.get_dummies(x, columns = [\"cyl\", \"gear\", \"carb\"])"
   ]
  },
  {
   "cell_type": "code",
   "execution_count": 41,
   "id": "48342693",
   "metadata": {
    "scrolled": true
   },
   "outputs": [
    {
     "data": {
      "text/html": [
       "<table class=\"simpletable\">\n",
       "<caption>OLS Regression Results</caption>\n",
       "<tr>\n",
       "  <th>Dep. Variable:</th>           <td>mpg</td>       <th>  R-squared:         </th> <td>   0.893</td>\n",
       "</tr>\n",
       "<tr>\n",
       "  <th>Model:</th>                   <td>OLS</td>       <th>  Adj. R-squared:    </th> <td>   0.779</td>\n",
       "</tr>\n",
       "<tr>\n",
       "  <th>Method:</th>             <td>Least Squares</td>  <th>  F-statistic:       </th> <td>   7.830</td>\n",
       "</tr>\n",
       "<tr>\n",
       "  <th>Date:</th>             <td>Thu, 18 Sep 2025</td> <th>  Prob (F-statistic):</th> <td>0.000124</td>\n",
       "</tr>\n",
       "<tr>\n",
       "  <th>Time:</th>                 <td>16:48:15</td>     <th>  Log-Likelihood:    </th> <td> -66.608</td>\n",
       "</tr>\n",
       "<tr>\n",
       "  <th>No. Observations:</th>      <td>    32</td>      <th>  AIC:               </th> <td>   167.2</td>\n",
       "</tr>\n",
       "<tr>\n",
       "  <th>Df Residuals:</th>          <td>    15</td>      <th>  BIC:               </th> <td>   192.1</td>\n",
       "</tr>\n",
       "<tr>\n",
       "  <th>Df Model:</th>              <td>    16</td>      <th>                     </th>     <td> </td>   \n",
       "</tr>\n",
       "<tr>\n",
       "  <th>Covariance Type:</th>      <td>nonrobust</td>    <th>                     </th>     <td> </td>   \n",
       "</tr>\n",
       "</table>\n",
       "<table class=\"simpletable\">\n",
       "<tr>\n",
       "     <td></td>       <th>coef</th>     <th>std err</th>      <th>t</th>      <th>P>|t|</th>  <th>[0.025</th>    <th>0.975]</th>  \n",
       "</tr>\n",
       "<tr>\n",
       "  <th>const</th>  <td>   31.6279</td> <td>   21.399</td> <td>    1.478</td> <td> 0.160</td> <td>  -13.982</td> <td>   77.238</td>\n",
       "</tr>\n",
       "<tr>\n",
       "  <th>disp</th>   <td>    0.0355</td> <td>    0.032</td> <td>    1.114</td> <td> 0.283</td> <td>   -0.032</td> <td>    0.104</td>\n",
       "</tr>\n",
       "<tr>\n",
       "  <th>hp</th>     <td>   -0.0705</td> <td>    0.039</td> <td>   -1.788</td> <td> 0.094</td> <td>   -0.155</td> <td>    0.014</td>\n",
       "</tr>\n",
       "<tr>\n",
       "  <th>drat</th>   <td>    1.1828</td> <td>    2.483</td> <td>    0.476</td> <td> 0.641</td> <td>   -4.111</td> <td>    6.476</td>\n",
       "</tr>\n",
       "<tr>\n",
       "  <th>wt</th>     <td>   -4.5298</td> <td>    2.539</td> <td>   -1.784</td> <td> 0.095</td> <td>   -9.941</td> <td>    0.881</td>\n",
       "</tr>\n",
       "<tr>\n",
       "  <th>qsec</th>   <td>    0.3678</td> <td>    0.935</td> <td>    0.393</td> <td> 0.700</td> <td>   -1.626</td> <td>    2.362</td>\n",
       "</tr>\n",
       "<tr>\n",
       "  <th>vs</th>     <td>    1.9309</td> <td>    2.871</td> <td>    0.672</td> <td> 0.512</td> <td>   -4.189</td> <td>    8.051</td>\n",
       "</tr>\n",
       "<tr>\n",
       "  <th>am</th>     <td>    1.2121</td> <td>    3.214</td> <td>    0.377</td> <td> 0.711</td> <td>   -5.637</td> <td>    8.062</td>\n",
       "</tr>\n",
       "<tr>\n",
       "  <th>cyl_6</th>  <td>   -1.3243</td> <td>    1.520</td> <td>   -0.871</td> <td> 0.397</td> <td>   -4.565</td> <td>    1.916</td>\n",
       "</tr>\n",
       "<tr>\n",
       "  <th>cyl_8</th>  <td>   -0.1681</td> <td>    3.580</td> <td>   -0.047</td> <td> 0.963</td> <td>   -7.798</td> <td>    7.462</td>\n",
       "</tr>\n",
       "<tr>\n",
       "  <th>gear_4</th> <td>    0.5572</td> <td>    1.900</td> <td>    0.293</td> <td> 0.773</td> <td>   -3.492</td> <td>    4.606</td>\n",
       "</tr>\n",
       "<tr>\n",
       "  <th>gear_5</th> <td>    1.2642</td> <td>    1.868</td> <td>    0.677</td> <td> 0.509</td> <td>   -2.718</td> <td>    5.246</td>\n",
       "</tr>\n",
       "<tr>\n",
       "  <th>carb_2</th> <td>   -0.4897</td> <td>    1.159</td> <td>   -0.423</td> <td> 0.679</td> <td>   -2.960</td> <td>    1.981</td>\n",
       "</tr>\n",
       "<tr>\n",
       "  <th>carb_3</th> <td>    1.4998</td> <td>    2.147</td> <td>    0.699</td> <td> 0.495</td> <td>   -3.076</td> <td>    6.076</td>\n",
       "</tr>\n",
       "<tr>\n",
       "  <th>carb_4</th> <td>    0.5457</td> <td>    2.225</td> <td>    0.245</td> <td> 0.810</td> <td>   -4.196</td> <td>    5.288</td>\n",
       "</tr>\n",
       "<tr>\n",
       "  <th>carb_6</th> <td>    2.2388</td> <td>    3.192</td> <td>    0.701</td> <td> 0.494</td> <td>   -4.565</td> <td>    9.042</td>\n",
       "</tr>\n",
       "<tr>\n",
       "  <th>carb_8</th> <td>    3.6252</td> <td>    4.180</td> <td>    0.867</td> <td> 0.399</td> <td>   -5.285</td> <td>   12.535</td>\n",
       "</tr>\n",
       "</table>\n",
       "<table class=\"simpletable\">\n",
       "<tr>\n",
       "  <th>Omnibus:</th>       <td> 2.468</td> <th>  Durbin-Watson:     </th> <td>   2.105</td>\n",
       "</tr>\n",
       "<tr>\n",
       "  <th>Prob(Omnibus):</th> <td> 0.291</td> <th>  Jarque-Bera (JB):  </th> <td>   1.772</td>\n",
       "</tr>\n",
       "<tr>\n",
       "  <th>Skew:</th>          <td> 0.576</td> <th>  Prob(JB):          </th> <td>   0.412</td>\n",
       "</tr>\n",
       "<tr>\n",
       "  <th>Kurtosis:</th>      <td> 3.009</td> <th>  Cond. No.          </th> <td>1.32e+04</td>\n",
       "</tr>\n",
       "</table><br/><br/>Notes:<br/>[1] Standard Errors assume that the covariance matrix of the errors is correctly specified.<br/>[2] The condition number is large, 1.32e+04. This might indicate that there are<br/>strong multicollinearity or other numerical problems."
      ],
      "text/latex": [
       "\\begin{center}\n",
       "\\begin{tabular}{lclc}\n",
       "\\toprule\n",
       "\\textbf{Dep. Variable:}    &       mpg        & \\textbf{  R-squared:         } &     0.893   \\\\\n",
       "\\textbf{Model:}            &       OLS        & \\textbf{  Adj. R-squared:    } &     0.779   \\\\\n",
       "\\textbf{Method:}           &  Least Squares   & \\textbf{  F-statistic:       } &     7.830   \\\\\n",
       "\\textbf{Date:}             & Thu, 18 Sep 2025 & \\textbf{  Prob (F-statistic):} &  0.000124   \\\\\n",
       "\\textbf{Time:}             &     16:48:15     & \\textbf{  Log-Likelihood:    } &   -66.608   \\\\\n",
       "\\textbf{No. Observations:} &          32      & \\textbf{  AIC:               } &     167.2   \\\\\n",
       "\\textbf{Df Residuals:}     &          15      & \\textbf{  BIC:               } &     192.1   \\\\\n",
       "\\textbf{Df Model:}         &          16      & \\textbf{                     } &             \\\\\n",
       "\\textbf{Covariance Type:}  &    nonrobust     & \\textbf{                     } &             \\\\\n",
       "\\bottomrule\n",
       "\\end{tabular}\n",
       "\\begin{tabular}{lcccccc}\n",
       "                 & \\textbf{coef} & \\textbf{std err} & \\textbf{t} & \\textbf{P$> |$t$|$} & \\textbf{[0.025} & \\textbf{0.975]}  \\\\\n",
       "\\midrule\n",
       "\\textbf{const}   &      31.6279  &       21.399     &     1.478  &         0.160        &      -13.982    &       77.238     \\\\\n",
       "\\textbf{disp}    &       0.0355  &        0.032     &     1.114  &         0.283        &       -0.032    &        0.104     \\\\\n",
       "\\textbf{hp}      &      -0.0705  &        0.039     &    -1.788  &         0.094        &       -0.155    &        0.014     \\\\\n",
       "\\textbf{drat}    &       1.1828  &        2.483     &     0.476  &         0.641        &       -4.111    &        6.476     \\\\\n",
       "\\textbf{wt}      &      -4.5298  &        2.539     &    -1.784  &         0.095        &       -9.941    &        0.881     \\\\\n",
       "\\textbf{qsec}    &       0.3678  &        0.935     &     0.393  &         0.700        &       -1.626    &        2.362     \\\\\n",
       "\\textbf{vs}      &       1.9309  &        2.871     &     0.672  &         0.512        &       -4.189    &        8.051     \\\\\n",
       "\\textbf{am}      &       1.2121  &        3.214     &     0.377  &         0.711        &       -5.637    &        8.062     \\\\\n",
       "\\textbf{cyl\\_6}  &      -1.3243  &        1.520     &    -0.871  &         0.397        &       -4.565    &        1.916     \\\\\n",
       "\\textbf{cyl\\_8}  &      -0.1681  &        3.580     &    -0.047  &         0.963        &       -7.798    &        7.462     \\\\\n",
       "\\textbf{gear\\_4} &       0.5572  &        1.900     &     0.293  &         0.773        &       -3.492    &        4.606     \\\\\n",
       "\\textbf{gear\\_5} &       1.2642  &        1.868     &     0.677  &         0.509        &       -2.718    &        5.246     \\\\\n",
       "\\textbf{carb\\_2} &      -0.4897  &        1.159     &    -0.423  &         0.679        &       -2.960    &        1.981     \\\\\n",
       "\\textbf{carb\\_3} &       1.4998  &        2.147     &     0.699  &         0.495        &       -3.076    &        6.076     \\\\\n",
       "\\textbf{carb\\_4} &       0.5457  &        2.225     &     0.245  &         0.810        &       -4.196    &        5.288     \\\\\n",
       "\\textbf{carb\\_6} &       2.2388  &        3.192     &     0.701  &         0.494        &       -4.565    &        9.042     \\\\\n",
       "\\textbf{carb\\_8} &       3.6252  &        4.180     &     0.867  &         0.399        &       -5.285    &       12.535     \\\\\n",
       "\\bottomrule\n",
       "\\end{tabular}\n",
       "\\begin{tabular}{lclc}\n",
       "\\textbf{Omnibus:}       &  2.468 & \\textbf{  Durbin-Watson:     } &    2.105  \\\\\n",
       "\\textbf{Prob(Omnibus):} &  0.291 & \\textbf{  Jarque-Bera (JB):  } &    1.772  \\\\\n",
       "\\textbf{Skew:}          &  0.576 & \\textbf{  Prob(JB):          } &    0.412  \\\\\n",
       "\\textbf{Kurtosis:}      &  3.009 & \\textbf{  Cond. No.          } & 1.32e+04  \\\\\n",
       "\\bottomrule\n",
       "\\end{tabular}\n",
       "%\\caption{OLS Regression Results}\n",
       "\\end{center}\n",
       "\n",
       "Notes: \\newline\n",
       " [1] Standard Errors assume that the covariance matrix of the errors is correctly specified. \\newline\n",
       " [2] The condition number is large, 1.32e+04. This might indicate that there are \\newline\n",
       " strong multicollinearity or other numerical problems."
      ],
      "text/plain": [
       "<class 'statsmodels.iolib.summary.Summary'>\n",
       "\"\"\"\n",
       "                            OLS Regression Results                            \n",
       "==============================================================================\n",
       "Dep. Variable:                    mpg   R-squared:                       0.893\n",
       "Model:                            OLS   Adj. R-squared:                  0.779\n",
       "Method:                 Least Squares   F-statistic:                     7.830\n",
       "Date:                Thu, 18 Sep 2025   Prob (F-statistic):           0.000124\n",
       "Time:                        16:48:15   Log-Likelihood:                -66.608\n",
       "No. Observations:                  32   AIC:                             167.2\n",
       "Df Residuals:                      15   BIC:                             192.1\n",
       "Df Model:                          16                                         \n",
       "Covariance Type:            nonrobust                                         \n",
       "==============================================================================\n",
       "                 coef    std err          t      P>|t|      [0.025      0.975]\n",
       "------------------------------------------------------------------------------\n",
       "const         31.6279     21.399      1.478      0.160     -13.982      77.238\n",
       "disp           0.0355      0.032      1.114      0.283      -0.032       0.104\n",
       "hp            -0.0705      0.039     -1.788      0.094      -0.155       0.014\n",
       "drat           1.1828      2.483      0.476      0.641      -4.111       6.476\n",
       "wt            -4.5298      2.539     -1.784      0.095      -9.941       0.881\n",
       "qsec           0.3678      0.935      0.393      0.700      -1.626       2.362\n",
       "vs             1.9309      2.871      0.672      0.512      -4.189       8.051\n",
       "am             1.2121      3.214      0.377      0.711      -5.637       8.062\n",
       "cyl_6         -1.3243      1.520     -0.871      0.397      -4.565       1.916\n",
       "cyl_8         -0.1681      3.580     -0.047      0.963      -7.798       7.462\n",
       "gear_4         0.5572      1.900      0.293      0.773      -3.492       4.606\n",
       "gear_5         1.2642      1.868      0.677      0.509      -2.718       5.246\n",
       "carb_2        -0.4897      1.159     -0.423      0.679      -2.960       1.981\n",
       "carb_3         1.4998      2.147      0.699      0.495      -3.076       6.076\n",
       "carb_4         0.5457      2.225      0.245      0.810      -4.196       5.288\n",
       "carb_6         2.2388      3.192      0.701      0.494      -4.565       9.042\n",
       "carb_8         3.6252      4.180      0.867      0.399      -5.285      12.535\n",
       "==============================================================================\n",
       "Omnibus:                        2.468   Durbin-Watson:                   2.105\n",
       "Prob(Omnibus):                  0.291   Jarque-Bera (JB):                1.772\n",
       "Skew:                           0.576   Prob(JB):                        0.412\n",
       "Kurtosis:                       3.009   Cond. No.                     1.32e+04\n",
       "==============================================================================\n",
       "\n",
       "Notes:\n",
       "[1] Standard Errors assume that the covariance matrix of the errors is correctly specified.\n",
       "[2] The condition number is large, 1.32e+04. This might indicate that there are\n",
       "strong multicollinearity or other numerical problems.\n",
       "\"\"\""
      ]
     },
     "execution_count": 41,
     "metadata": {},
     "output_type": "execute_result"
    }
   ],
   "source": [
    "X_modelo_dum = sm.add_constant(x_dum)\n",
    "ols_dum = sm.OLS(y_dum, X_modelo_dum)\n",
    "results_dum = ols_dum.fit()\n",
    "results_dum.summary()"
   ]
  },
  {
   "cell_type": "markdown",
   "id": "d3e47e25",
   "metadata": {},
   "source": [
    "**2.**"
   ]
  },
  {
   "cell_type": "code",
   "execution_count": 42,
   "id": "9c3e5cb2",
   "metadata": {},
   "outputs": [],
   "source": [
    "Xtrain_dum, Xtest_dum, Ytrain_dum, Ytest_dum = train_test_split(x_dum, y_dum, train_size = 0.4)\n",
    "#, random_state = 137"
   ]
  },
  {
   "cell_type": "markdown",
   "id": "8ad6317a",
   "metadata": {},
   "source": [
    "**3.**"
   ]
  },
  {
   "cell_type": "code",
   "execution_count": 43,
   "id": "61bc5a3d",
   "metadata": {},
   "outputs": [],
   "source": [
    "scaler_dum = StandardScaler().fit(Xtrain_dum)\n",
    "X_scaled_dum = scaler_dum.transform(Xtrain_dum)"
   ]
  },
  {
   "cell_type": "markdown",
   "id": "66160285",
   "metadata": {},
   "source": [
    "TRAIN"
   ]
  },
  {
   "cell_type": "code",
   "execution_count": 44,
   "id": "ad9d9e40",
   "metadata": {},
   "outputs": [
    {
     "name": "stdout",
     "output_type": "stream",
     "text": [
      "Coeficientes: [-0.57328516  0.31302525  1.1902267  -0.72104615 -0.36893963  0.23454833\n",
      "  0.24856571 -0.03180645 -0.93028114  0.0645162  -0.97376388  0.10498618\n",
      " -0.13424552 -0.90429268  0.          0.        ]\n",
      "Intercepto: 17.2\n"
     ]
    }
   ],
   "source": [
    "ridge_train = Ridge(alpha=1.0)\n",
    "ridge_train.fit(X_scaled_dum, Ytrain_dum)\n",
    "\n",
    "y_pred = ridge_train.predict(X_scaled_dum)\n",
    "\n",
    "print(\"Coeficientes:\", ridge_train.coef_)\n",
    "print(\"Intercepto:\", ridge_train.intercept_)"
   ]
  },
  {
   "cell_type": "code",
   "execution_count": 45,
   "id": "ca8eb5ca",
   "metadata": {},
   "outputs": [
    {
     "name": "stdout",
     "output_type": "stream",
     "text": [
      "R^2: 0.9080341788721532\n"
     ]
    }
   ],
   "source": [
    "r2_ridge_train = ridge_train.score(X_scaled_dum, Ytrain_dum)\n",
    "print(\"R^2:\", r2_ridge_train)"
   ]
  },
  {
   "cell_type": "markdown",
   "id": "6ea61560",
   "metadata": {},
   "source": [
    "TEST"
   ]
  },
  {
   "cell_type": "code",
   "execution_count": 46,
   "id": "05e16bd2",
   "metadata": {},
   "outputs": [],
   "source": [
    "X_scaled_test_dum = scaler_dum.transform(Xtest_dum)"
   ]
  },
  {
   "cell_type": "code",
   "execution_count": 47,
   "id": "4097fe54",
   "metadata": {},
   "outputs": [
    {
     "name": "stdout",
     "output_type": "stream",
     "text": [
      "Coeficientes: [ 0.          1.24975801  2.53451874 -2.2600476   0.57152369 -4.2299013\n",
      "  1.42432881  0.54193836  0.73388895  2.20021122 -1.2194225 ]\n",
      "Intercepto: 17.41929189235009\n"
     ]
    }
   ],
   "source": [
    "ridge_test = Ridge(alpha=1.0)\n",
    "ridge_test.fit(X_scaled_test_dum, Ytest_dum)\n",
    "\n",
    "y_pred_test = ridge_test.predict(X_scaled_test_dum)\n",
    "\n",
    "print(\"Coeficientes:\", ridge2.coef_)\n",
    "print(\"Intercepto:\", ridge2.intercept_)"
   ]
  },
  {
   "cell_type": "code",
   "execution_count": 48,
   "id": "dc3154e7",
   "metadata": {},
   "outputs": [
    {
     "name": "stdout",
     "output_type": "stream",
     "text": [
      "R^2: 0.13659905160421082\n"
     ]
    }
   ],
   "source": [
    "r2_ridge_test = ridge_test.score(X_scaled_dum, Ytrain_dum)\n",
    "print(\"R^2:\", r2_ridge_test)"
   ]
  },
  {
   "cell_type": "markdown",
   "id": "1b7d2daf",
   "metadata": {},
   "source": [
    "**2.2** Repite el ejercicio anterior usando 'qsec' como salida."
   ]
  },
  {
   "cell_type": "markdown",
   "id": "3a2e692e",
   "metadata": {},
   "source": [
    "**1.**"
   ]
  },
  {
   "cell_type": "code",
   "execution_count": 49,
   "id": "275d7537",
   "metadata": {},
   "outputs": [],
   "source": [
    "x_dum_qsec = motor_dummies.drop(columns=[\"qsec\"])\n",
    "y_dum_qsec = motor_dummies['qsec']"
   ]
  },
  {
   "cell_type": "code",
   "execution_count": 50,
   "id": "43d2520c",
   "metadata": {
    "scrolled": true
   },
   "outputs": [
    {
     "data": {
      "text/html": [
       "<table class=\"simpletable\">\n",
       "<caption>OLS Regression Results</caption>\n",
       "<tr>\n",
       "  <th>Dep. Variable:</th>          <td>qsec</td>       <th>  R-squared:         </th> <td>   0.908</td>\n",
       "</tr>\n",
       "<tr>\n",
       "  <th>Model:</th>                   <td>OLS</td>       <th>  Adj. R-squared:    </th> <td>   0.810</td>\n",
       "</tr>\n",
       "<tr>\n",
       "  <th>Method:</th>             <td>Least Squares</td>  <th>  F-statistic:       </th> <td>   9.283</td>\n",
       "</tr>\n",
       "<tr>\n",
       "  <th>Date:</th>             <td>Thu, 18 Sep 2025</td> <th>  Prob (F-statistic):</th> <td>4.35e-05</td>\n",
       "</tr>\n",
       "<tr>\n",
       "  <th>Time:</th>                 <td>16:48:15</td>     <th>  Log-Likelihood:    </th> <td> -25.252</td>\n",
       "</tr>\n",
       "<tr>\n",
       "  <th>No. Observations:</th>      <td>    32</td>      <th>  AIC:               </th> <td>   84.50</td>\n",
       "</tr>\n",
       "<tr>\n",
       "  <th>Df Residuals:</th>          <td>    15</td>      <th>  BIC:               </th> <td>   109.4</td>\n",
       "</tr>\n",
       "<tr>\n",
       "  <th>Df Model:</th>              <td>    16</td>      <th>                     </th>     <td> </td>   \n",
       "</tr>\n",
       "<tr>\n",
       "  <th>Covariance Type:</th>      <td>nonrobust</td>    <th>                     </th>     <td> </td>   \n",
       "</tr>\n",
       "</table>\n",
       "<table class=\"simpletable\">\n",
       "<tr>\n",
       "     <td></td>       <th>coef</th>     <th>std err</th>      <th>t</th>      <th>P>|t|</th>  <th>[0.025</th>    <th>0.975]</th>  \n",
       "</tr>\n",
       "<tr>\n",
       "  <th>const</th>  <td>   12.1167</td> <td>    5.457</td> <td>    2.221</td> <td> 0.042</td> <td>    0.486</td> <td>   23.747</td>\n",
       "</tr>\n",
       "<tr>\n",
       "  <th>mpg</th>    <td>    0.0277</td> <td>    0.071</td> <td>    0.393</td> <td> 0.700</td> <td>   -0.123</td> <td>    0.178</td>\n",
       "</tr>\n",
       "<tr>\n",
       "  <th>disp</th>   <td>    0.0035</td> <td>    0.009</td> <td>    0.389</td> <td> 0.703</td> <td>   -0.016</td> <td>    0.023</td>\n",
       "</tr>\n",
       "<tr>\n",
       "  <th>hp</th>     <td>   -0.0021</td> <td>    0.012</td> <td>   -0.173</td> <td> 0.865</td> <td>   -0.027</td> <td>    0.023</td>\n",
       "</tr>\n",
       "<tr>\n",
       "  <th>drat</th>   <td>    0.1079</td> <td>    0.687</td> <td>    0.157</td> <td> 0.877</td> <td>   -1.356</td> <td>    1.571</td>\n",
       "</tr>\n",
       "<tr>\n",
       "  <th>wt</th>     <td>    0.8105</td> <td>    0.739</td> <td>    1.097</td> <td> 0.290</td> <td>   -0.764</td> <td>    2.385</td>\n",
       "</tr>\n",
       "<tr>\n",
       "  <th>vs</th>     <td>    0.2657</td> <td>    0.797</td> <td>    0.333</td> <td> 0.744</td> <td>   -1.434</td> <td>    1.965</td>\n",
       "</tr>\n",
       "<tr>\n",
       "  <th>am</th>     <td>   -1.6943</td> <td>    0.771</td> <td>   -2.197</td> <td> 0.044</td> <td>   -3.338</td> <td>   -0.050</td>\n",
       "</tr>\n",
       "<tr>\n",
       "  <th>cyl_6</th>  <td>   -0.5522</td> <td>    0.404</td> <td>   -1.368</td> <td> 0.191</td> <td>   -1.412</td> <td>    0.308</td>\n",
       "</tr>\n",
       "<tr>\n",
       "  <th>cyl_8</th>  <td>   -1.4835</td> <td>    0.905</td> <td>   -1.638</td> <td> 0.122</td> <td>   -3.413</td> <td>    0.447</td>\n",
       "</tr>\n",
       "<tr>\n",
       "  <th>gear_4</th> <td>    0.6661</td> <td>    0.494</td> <td>    1.348</td> <td> 0.198</td> <td>   -0.387</td> <td>    1.719</td>\n",
       "</tr>\n",
       "<tr>\n",
       "  <th>gear_5</th> <td>    0.0912</td> <td>    0.520</td> <td>    0.175</td> <td> 0.863</td> <td>   -1.018</td> <td>    1.200</td>\n",
       "</tr>\n",
       "<tr>\n",
       "  <th>carb_2</th> <td>   -0.4172</td> <td>    0.302</td> <td>   -1.384</td> <td> 0.187</td> <td>   -1.060</td> <td>    0.225</td>\n",
       "</tr>\n",
       "<tr>\n",
       "  <th>carb_3</th> <td>   -0.1147</td> <td>    0.598</td> <td>   -0.192</td> <td> 0.851</td> <td>   -1.390</td> <td>    1.161</td>\n",
       "</tr>\n",
       "<tr>\n",
       "  <th>carb_4</th> <td>   -0.9735</td> <td>    0.558</td> <td>   -1.744</td> <td> 0.102</td> <td>   -2.163</td> <td>    0.216</td>\n",
       "</tr>\n",
       "<tr>\n",
       "  <th>carb_6</th> <td>   -0.7826</td> <td>    0.868</td> <td>   -0.902</td> <td> 0.381</td> <td>   -2.632</td> <td>    1.067</td>\n",
       "</tr>\n",
       "<tr>\n",
       "  <th>carb_8</th> <td>   -0.6662</td> <td>    1.164</td> <td>   -0.572</td> <td> 0.576</td> <td>   -3.147</td> <td>    1.814</td>\n",
       "</tr>\n",
       "</table>\n",
       "<table class=\"simpletable\">\n",
       "<tr>\n",
       "  <th>Omnibus:</th>       <td>12.619</td> <th>  Durbin-Watson:     </th> <td>   2.588</td>\n",
       "</tr>\n",
       "<tr>\n",
       "  <th>Prob(Omnibus):</th> <td> 0.002</td> <th>  Jarque-Bera (JB):  </th> <td>  16.989</td>\n",
       "</tr>\n",
       "<tr>\n",
       "  <th>Skew:</th>          <td> 0.924</td> <th>  Prob(JB):          </th> <td>0.000205</td>\n",
       "</tr>\n",
       "<tr>\n",
       "  <th>Kurtosis:</th>      <td> 6.054</td> <th>  Cond. No.          </th> <td>1.24e+04</td>\n",
       "</tr>\n",
       "</table><br/><br/>Notes:<br/>[1] Standard Errors assume that the covariance matrix of the errors is correctly specified.<br/>[2] The condition number is large, 1.24e+04. This might indicate that there are<br/>strong multicollinearity or other numerical problems."
      ],
      "text/latex": [
       "\\begin{center}\n",
       "\\begin{tabular}{lclc}\n",
       "\\toprule\n",
       "\\textbf{Dep. Variable:}    &       qsec       & \\textbf{  R-squared:         } &     0.908   \\\\\n",
       "\\textbf{Model:}            &       OLS        & \\textbf{  Adj. R-squared:    } &     0.810   \\\\\n",
       "\\textbf{Method:}           &  Least Squares   & \\textbf{  F-statistic:       } &     9.283   \\\\\n",
       "\\textbf{Date:}             & Thu, 18 Sep 2025 & \\textbf{  Prob (F-statistic):} &  4.35e-05   \\\\\n",
       "\\textbf{Time:}             &     16:48:15     & \\textbf{  Log-Likelihood:    } &   -25.252   \\\\\n",
       "\\textbf{No. Observations:} &          32      & \\textbf{  AIC:               } &     84.50   \\\\\n",
       "\\textbf{Df Residuals:}     &          15      & \\textbf{  BIC:               } &     109.4   \\\\\n",
       "\\textbf{Df Model:}         &          16      & \\textbf{                     } &             \\\\\n",
       "\\textbf{Covariance Type:}  &    nonrobust     & \\textbf{                     } &             \\\\\n",
       "\\bottomrule\n",
       "\\end{tabular}\n",
       "\\begin{tabular}{lcccccc}\n",
       "                 & \\textbf{coef} & \\textbf{std err} & \\textbf{t} & \\textbf{P$> |$t$|$} & \\textbf{[0.025} & \\textbf{0.975]}  \\\\\n",
       "\\midrule\n",
       "\\textbf{const}   &      12.1167  &        5.457     &     2.221  &         0.042        &        0.486    &       23.747     \\\\\n",
       "\\textbf{mpg}     &       0.0277  &        0.071     &     0.393  &         0.700        &       -0.123    &        0.178     \\\\\n",
       "\\textbf{disp}    &       0.0035  &        0.009     &     0.389  &         0.703        &       -0.016    &        0.023     \\\\\n",
       "\\textbf{hp}      &      -0.0021  &        0.012     &    -0.173  &         0.865        &       -0.027    &        0.023     \\\\\n",
       "\\textbf{drat}    &       0.1079  &        0.687     &     0.157  &         0.877        &       -1.356    &        1.571     \\\\\n",
       "\\textbf{wt}      &       0.8105  &        0.739     &     1.097  &         0.290        &       -0.764    &        2.385     \\\\\n",
       "\\textbf{vs}      &       0.2657  &        0.797     &     0.333  &         0.744        &       -1.434    &        1.965     \\\\\n",
       "\\textbf{am}      &      -1.6943  &        0.771     &    -2.197  &         0.044        &       -3.338    &       -0.050     \\\\\n",
       "\\textbf{cyl\\_6}  &      -0.5522  &        0.404     &    -1.368  &         0.191        &       -1.412    &        0.308     \\\\\n",
       "\\textbf{cyl\\_8}  &      -1.4835  &        0.905     &    -1.638  &         0.122        &       -3.413    &        0.447     \\\\\n",
       "\\textbf{gear\\_4} &       0.6661  &        0.494     &     1.348  &         0.198        &       -0.387    &        1.719     \\\\\n",
       "\\textbf{gear\\_5} &       0.0912  &        0.520     &     0.175  &         0.863        &       -1.018    &        1.200     \\\\\n",
       "\\textbf{carb\\_2} &      -0.4172  &        0.302     &    -1.384  &         0.187        &       -1.060    &        0.225     \\\\\n",
       "\\textbf{carb\\_3} &      -0.1147  &        0.598     &    -0.192  &         0.851        &       -1.390    &        1.161     \\\\\n",
       "\\textbf{carb\\_4} &      -0.9735  &        0.558     &    -1.744  &         0.102        &       -2.163    &        0.216     \\\\\n",
       "\\textbf{carb\\_6} &      -0.7826  &        0.868     &    -0.902  &         0.381        &       -2.632    &        1.067     \\\\\n",
       "\\textbf{carb\\_8} &      -0.6662  &        1.164     &    -0.572  &         0.576        &       -3.147    &        1.814     \\\\\n",
       "\\bottomrule\n",
       "\\end{tabular}\n",
       "\\begin{tabular}{lclc}\n",
       "\\textbf{Omnibus:}       & 12.619 & \\textbf{  Durbin-Watson:     } &    2.588  \\\\\n",
       "\\textbf{Prob(Omnibus):} &  0.002 & \\textbf{  Jarque-Bera (JB):  } &   16.989  \\\\\n",
       "\\textbf{Skew:}          &  0.924 & \\textbf{  Prob(JB):          } & 0.000205  \\\\\n",
       "\\textbf{Kurtosis:}      &  6.054 & \\textbf{  Cond. No.          } & 1.24e+04  \\\\\n",
       "\\bottomrule\n",
       "\\end{tabular}\n",
       "%\\caption{OLS Regression Results}\n",
       "\\end{center}\n",
       "\n",
       "Notes: \\newline\n",
       " [1] Standard Errors assume that the covariance matrix of the errors is correctly specified. \\newline\n",
       " [2] The condition number is large, 1.24e+04. This might indicate that there are \\newline\n",
       " strong multicollinearity or other numerical problems."
      ],
      "text/plain": [
       "<class 'statsmodels.iolib.summary.Summary'>\n",
       "\"\"\"\n",
       "                            OLS Regression Results                            \n",
       "==============================================================================\n",
       "Dep. Variable:                   qsec   R-squared:                       0.908\n",
       "Model:                            OLS   Adj. R-squared:                  0.810\n",
       "Method:                 Least Squares   F-statistic:                     9.283\n",
       "Date:                Thu, 18 Sep 2025   Prob (F-statistic):           4.35e-05\n",
       "Time:                        16:48:15   Log-Likelihood:                -25.252\n",
       "No. Observations:                  32   AIC:                             84.50\n",
       "Df Residuals:                      15   BIC:                             109.4\n",
       "Df Model:                          16                                         \n",
       "Covariance Type:            nonrobust                                         \n",
       "==============================================================================\n",
       "                 coef    std err          t      P>|t|      [0.025      0.975]\n",
       "------------------------------------------------------------------------------\n",
       "const         12.1167      5.457      2.221      0.042       0.486      23.747\n",
       "mpg            0.0277      0.071      0.393      0.700      -0.123       0.178\n",
       "disp           0.0035      0.009      0.389      0.703      -0.016       0.023\n",
       "hp            -0.0021      0.012     -0.173      0.865      -0.027       0.023\n",
       "drat           0.1079      0.687      0.157      0.877      -1.356       1.571\n",
       "wt             0.8105      0.739      1.097      0.290      -0.764       2.385\n",
       "vs             0.2657      0.797      0.333      0.744      -1.434       1.965\n",
       "am            -1.6943      0.771     -2.197      0.044      -3.338      -0.050\n",
       "cyl_6         -0.5522      0.404     -1.368      0.191      -1.412       0.308\n",
       "cyl_8         -1.4835      0.905     -1.638      0.122      -3.413       0.447\n",
       "gear_4         0.6661      0.494      1.348      0.198      -0.387       1.719\n",
       "gear_5         0.0912      0.520      0.175      0.863      -1.018       1.200\n",
       "carb_2        -0.4172      0.302     -1.384      0.187      -1.060       0.225\n",
       "carb_3        -0.1147      0.598     -0.192      0.851      -1.390       1.161\n",
       "carb_4        -0.9735      0.558     -1.744      0.102      -2.163       0.216\n",
       "carb_6        -0.7826      0.868     -0.902      0.381      -2.632       1.067\n",
       "carb_8        -0.6662      1.164     -0.572      0.576      -3.147       1.814\n",
       "==============================================================================\n",
       "Omnibus:                       12.619   Durbin-Watson:                   2.588\n",
       "Prob(Omnibus):                  0.002   Jarque-Bera (JB):               16.989\n",
       "Skew:                           0.924   Prob(JB):                     0.000205\n",
       "Kurtosis:                       6.054   Cond. No.                     1.24e+04\n",
       "==============================================================================\n",
       "\n",
       "Notes:\n",
       "[1] Standard Errors assume that the covariance matrix of the errors is correctly specified.\n",
       "[2] The condition number is large, 1.24e+04. This might indicate that there are\n",
       "strong multicollinearity or other numerical problems.\n",
       "\"\"\""
      ]
     },
     "execution_count": 50,
     "metadata": {},
     "output_type": "execute_result"
    }
   ],
   "source": [
    "X_modelo_dum_qsec = sm.add_constant(x_dum_qsec)\n",
    "ols_dum_qsec = sm.OLS(y_dum_qsec, X_modelo_dum_qsec)\n",
    "results_dum_qsec = ols_dum_qsec.fit()\n",
    "results_dum_qsec.summary()"
   ]
  },
  {
   "cell_type": "markdown",
   "id": "b826a10f",
   "metadata": {},
   "source": [
    "**2.**"
   ]
  },
  {
   "cell_type": "code",
   "execution_count": 51,
   "id": "5aaf2f90",
   "metadata": {},
   "outputs": [],
   "source": [
    "Xtrain_dum_qsec, Xtest_dum_qsec, Ytrain_dum_qsec, Ytest_dum_qsec = train_test_split(x_dum_qsec, y_dum_qsec, train_size = 0.4, random_state = 137)"
   ]
  },
  {
   "cell_type": "markdown",
   "id": "227f8212",
   "metadata": {},
   "source": [
    "**3.**"
   ]
  },
  {
   "cell_type": "code",
   "execution_count": 52,
   "id": "246a5923",
   "metadata": {},
   "outputs": [],
   "source": [
    "scaler_dum_qsec = StandardScaler().fit(Xtrain_dum_qsec)\n",
    "X_scaled_dum_qsec = scaler_dum_qsec.transform(Xtrain_dum_qsec)"
   ]
  },
  {
   "cell_type": "markdown",
   "id": "43e094b2",
   "metadata": {},
   "source": [
    "TRAIN"
   ]
  },
  {
   "cell_type": "code",
   "execution_count": 53,
   "id": "98a9d40e",
   "metadata": {},
   "outputs": [
    {
     "name": "stdout",
     "output_type": "stream",
     "text": [
      "Coeficientes: [ 0.23537669  0.15717246 -0.64365739 -0.31726369  0.42737004  0.5428533\n",
      "  0.01976446 -0.15416478 -0.30527997  0.0495953  -0.29568849 -0.15045977\n",
      " -0.06771537 -0.42914262  0.         -0.18708807]\n",
      "Intercepto: 17.37333333333333\n"
     ]
    }
   ],
   "source": [
    "ridge_train_qsec = Ridge(alpha=1.0)\n",
    "ridge_train_qsec.fit(X_scaled_dum_qsec, Ytrain_dum_qsec)\n",
    "\n",
    "y_pred_qsec = ridge_train_qsec.predict(X_scaled_dum_qsec)\n",
    "\n",
    "print(\"Coeficientes:\", ridge_train_qsec.coef_)\n",
    "print(\"Intercepto:\", ridge_train_qsec.intercept_)"
   ]
  },
  {
   "cell_type": "code",
   "execution_count": 54,
   "id": "f07c3681",
   "metadata": {},
   "outputs": [
    {
     "name": "stdout",
     "output_type": "stream",
     "text": [
      "R^2: 0.9785215603421599\n"
     ]
    }
   ],
   "source": [
    "r2_ridge_train_qsec = ridge_train_qsec.score(X_scaled_dum_qsec, Ytrain_dum_qsec)\n",
    "print(\"R^2:\", r2_ridge_train_qsec)"
   ]
  },
  {
   "cell_type": "markdown",
   "id": "aea293bc",
   "metadata": {},
   "source": [
    "TEST"
   ]
  },
  {
   "cell_type": "code",
   "execution_count": 55,
   "id": "ba8f2af2",
   "metadata": {},
   "outputs": [],
   "source": [
    "X_scaled_test_dum_qsec = scaler_dum_qsec.transform(Xtest_dum_qsec)"
   ]
  },
  {
   "cell_type": "code",
   "execution_count": 56,
   "id": "e809d7f9",
   "metadata": {},
   "outputs": [
    {
     "name": "stdout",
     "output_type": "stream",
     "text": [
      "Coeficientes: [ 1.99244780e-01 -1.51209005e-01 -3.58621578e-01  2.57919282e-02\n",
      "  7.64242138e-01  3.80786639e-01 -7.61698092e-01 -3.43146411e-01\n",
      " -8.26042680e-01  3.09078124e-01 -1.73024751e-01 -5.08263440e-02\n",
      "  5.67876211e-02 -4.74278055e-01 -1.25930424e-01  3.20516357e-31]\n",
      "Intercepto: 17.06381259299005\n"
     ]
    }
   ],
   "source": [
    "ridge_test_qsec = Ridge(alpha=1.0)\n",
    "ridge_test_qsec.fit(X_scaled_test_dum_qsec, Ytest_dum_qsec)\n",
    "\n",
    "y_pred_qsec_test = ridge_test_qsec.predict(X_scaled_test_dum_qsec)\n",
    "\n",
    "print(\"Coeficientes:\", ridge_test_qsec.coef_)\n",
    "print(\"Intercepto:\", ridge_test_qsec.intercept_)"
   ]
  },
  {
   "cell_type": "code",
   "execution_count": 57,
   "id": "feb6384a",
   "metadata": {
    "scrolled": true
   },
   "outputs": [
    {
     "name": "stdout",
     "output_type": "stream",
     "text": [
      "R^2: 0.8912788065959261\n"
     ]
    }
   ],
   "source": [
    "r2_ridge_test_qsec = ridge_test_qsec.score(X_scaled_test_dum_qsec, Ytest_dum_qsec)\n",
    "print(\"R^2:\", r2_ridge_test_qsec)"
   ]
  },
  {
   "cell_type": "markdown",
   "id": "e4169d90",
   "metadata": {},
   "source": [
    "**3.1 Compara los R2 de los ejercicios 1.1 & 2.1.**"
   ]
  },
  {
   "cell_type": "markdown",
   "id": "144cb271",
   "metadata": {},
   "source": [
    "Los R^2 fueron los siguientes:\n",
    "\n",
    "En el ejercicio 1.1: \n",
    "\n",
    "- 0.869 con todos los datos\n",
    "- 0.990 con datos de TRAIN\n",
    "- -54 con datos de TEST\n",
    "\n",
    "En el ejercicio 2.1:\n",
    "\n",
    "- 0.893 con todos los datos\n",
    "- 0.917 con datos de TRAIN \n",
    "- 0.583 con datos de TEST\n",
    "\n"
   ]
  },
  {
   "cell_type": "markdown",
   "id": "77bc9e54",
   "metadata": {},
   "source": [
    "El modelo es mucho más confiable cuando se utiliza 'qsec' como datos de Y ya que, comparando los R^2 de los datos de test tanto con 'qsec' como con 'mpg', el resultado es mucho mejor con 'qsec' a pesar de que en sí no fue tan bueno"
   ]
  },
  {
   "cell_type": "markdown",
   "id": "23610c30",
   "metadata": {},
   "source": [
    "**3.2 Compara los R2 de los ejercicios 1.2 & 2.2.**"
   ]
  },
  {
   "cell_type": "markdown",
   "id": "c7645a00",
   "metadata": {},
   "source": [
    "Los R^2 fueron los siguientes:\n",
    "\n",
    "En el ejercicio 1.2: \n",
    "\n",
    "- 0.875 con todos los datos\n",
    "- 0.979 con datos de TRAIN\n",
    "- 0.376 con datos de TEST\n",
    "\n",
    "En el ejercicio 2.2:\n",
    "\n",
    "- 0.908 con todos los datos\n",
    "- 0.978 con datos de TRAIN \n",
    "- 0.891 con datos de TEST"
   ]
  },
  {
   "cell_type": "markdown",
   "id": "26191732",
   "metadata": {},
   "source": [
    "Comparando los 4 resultados del R^2, puedo concluir que utilizar dummies es más confiable que no hacerlo, porque tanto con 'qsec' como con 'mpg', los resultados a la hora de utilizar los datos de TEST fueron más altos que cuando no utilicé dummies. Además, al igual que con la conclusión pasada, utilizar 'qsec' como datos de Y es más confiable"
   ]
  }
 ],
 "metadata": {
  "kernelspec": {
   "display_name": "Python 3 (ipykernel)",
   "language": "python",
   "name": "python3"
  },
  "language_info": {
   "codemirror_mode": {
    "name": "ipython",
    "version": 3
   },
   "file_extension": ".py",
   "mimetype": "text/x-python",
   "name": "python",
   "nbconvert_exporter": "python",
   "pygments_lexer": "ipython3",
   "version": "3.11.4"
  }
 },
 "nbformat": 4,
 "nbformat_minor": 5
}
